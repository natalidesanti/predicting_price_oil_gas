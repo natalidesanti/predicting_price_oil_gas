{
 "cells": [
  {
   "cell_type": "markdown",
   "id": "bace7308-75a7-43e4-9aae-8e8fef572628",
   "metadata": {},
   "source": [
    "# Predicting the average selling price in the oil gas sector"
   ]
  },
  {
   "cell_type": "markdown",
   "id": "5be187c4-a58d-494b-9e26-c57e1365a21a",
   "metadata": {},
   "source": [
    "## 1) Libraries"
   ]
  },
  {
   "cell_type": "code",
   "execution_count": 1,
   "id": "ef78dfda-905c-4abb-b9e8-3bf132fb2557",
   "metadata": {},
   "outputs": [],
   "source": [
    "import pandas as pd\n",
    "import numpy as np\n",
    "import matplotlib.pyplot as plt\n",
    "from sklearn.preprocessing import LabelEncoder\n",
    "import seaborn as sns\n",
    "import pickle\n",
    "from sklearn.metrics import mean_squared_error\n",
    "from sklearn.metrics import mean_absolute_percentage_error\n",
    "from sklearn.metrics import mean_absolute_error\n",
    "import seaborn as sns\n",
    "from statsmodels.tsa.arima.model import ARIMA\n",
    "from pmdarima import auto_arima\n",
    "import pycaret"
   ]
  },
  {
   "cell_type": "markdown",
   "id": "2b8b51d3-e714-4a72-8072-60e4accde017",
   "metadata": {},
   "source": [
    "## 2) Data loading"
   ]
  },
  {
   "cell_type": "code",
   "execution_count": 2,
   "id": "b5cb5be6-c156-4e6f-9fba-541c62d746de",
   "metadata": {},
   "outputs": [],
   "source": [
    "def load_data(path):\n",
    "    '''\n",
    "    This function returns the data set\n",
    "\n",
    "    -----------\n",
    "    Parameters\n",
    "    -----------\n",
    "    \n",
    "    path : string\n",
    "        Directory and name of the file\n",
    "\n",
    "    -----------\n",
    "    Returns\n",
    "    -----------\n",
    "\n",
    "    df : pandas dataframe\n",
    "        Dataframe with the data\n",
    "    '''\n",
    "    \n",
    "    df = pd.read_parquet(path)\n",
    "    \n",
    "    return df"
   ]
  },
  {
   "cell_type": "code",
   "execution_count": 3,
   "id": "94e13f62-43ff-4870-bf31-2e68d251365f",
   "metadata": {},
   "outputs": [
    {
     "data": {
      "text/plain": [
       "(556501, 11)"
      ]
     },
     "execution_count": 3,
     "metadata": {},
     "output_type": "execute_result"
    }
   ],
   "source": [
    "df = load_data('data/oil_and_gas_dataset.parquet')\n",
    "df.shape"
   ]
  },
  {
   "cell_type": "markdown",
   "id": "8055ff1b-23b0-40de-9039-fce1ed895939",
   "metadata": {},
   "source": [
    "## 3) Data pre-process"
   ]
  },
  {
   "cell_type": "markdown",
   "id": "1282b314-0fc3-412a-9801-e259d7208b69",
   "metadata": {},
   "source": [
    "The first look at the data:"
   ]
  },
  {
   "cell_type": "code",
   "execution_count": 4,
   "id": "91a695b4-3621-439d-b5de-992e09b70461",
   "metadata": {},
   "outputs": [
    {
     "data": {
      "text/html": [
       "<div>\n",
       "<style scoped>\n",
       "    .dataframe tbody tr th:only-of-type {\n",
       "        vertical-align: middle;\n",
       "    }\n",
       "\n",
       "    .dataframe tbody tr th {\n",
       "        vertical-align: top;\n",
       "    }\n",
       "\n",
       "    .dataframe thead th {\n",
       "        text-align: right;\n",
       "    }\n",
       "</style>\n",
       "<table border=\"1\" class=\"dataframe\">\n",
       "  <thead>\n",
       "    <tr style=\"text-align: right;\">\n",
       "      <th></th>\n",
       "      <th>bandeira_revenda_cat</th>\n",
       "      <th>sigla_uf</th>\n",
       "      <th>sigla_uf_nome</th>\n",
       "      <th>id_municipio</th>\n",
       "      <th>id_municipio_nome</th>\n",
       "      <th>produto</th>\n",
       "      <th>unidade_medida</th>\n",
       "      <th>n_estabelecimentos</th>\n",
       "      <th>avg_preco_compra</th>\n",
       "      <th>avg_preco_venda</th>\n",
       "      <th>data</th>\n",
       "    </tr>\n",
       "  </thead>\n",
       "  <tbody>\n",
       "    <tr>\n",
       "      <th>0</th>\n",
       "      <td>White Label</td>\n",
       "      <td>BA</td>\n",
       "      <td>Bahia</td>\n",
       "      <td>2917607</td>\n",
       "      <td>Jaguaquara</td>\n",
       "      <td>Gasolina</td>\n",
       "      <td>R$/litro</td>\n",
       "      <td>5</td>\n",
       "      <td>1.723251</td>\n",
       "      <td>2.030526</td>\n",
       "      <td>2004-05-01</td>\n",
       "    </tr>\n",
       "    <tr>\n",
       "      <th>1</th>\n",
       "      <td>Blue Label</td>\n",
       "      <td>SP</td>\n",
       "      <td>São Paulo</td>\n",
       "      <td>3550308</td>\n",
       "      <td>São Paulo</td>\n",
       "      <td>Diesel</td>\n",
       "      <td>R$/litro</td>\n",
       "      <td>33</td>\n",
       "      <td>1.225628</td>\n",
       "      <td>1.397636</td>\n",
       "      <td>2004-05-01</td>\n",
       "    </tr>\n",
       "    <tr>\n",
       "      <th>2</th>\n",
       "      <td>Green Label</td>\n",
       "      <td>SP</td>\n",
       "      <td>São Paulo</td>\n",
       "      <td>3550308</td>\n",
       "      <td>São Paulo</td>\n",
       "      <td>Diesel</td>\n",
       "      <td>R$/litro</td>\n",
       "      <td>128</td>\n",
       "      <td>1.224991</td>\n",
       "      <td>1.415282</td>\n",
       "      <td>2004-05-01</td>\n",
       "    </tr>\n",
       "    <tr>\n",
       "      <th>3</th>\n",
       "      <td>Green Label</td>\n",
       "      <td>SP</td>\n",
       "      <td>São Paulo</td>\n",
       "      <td>3505708</td>\n",
       "      <td>Barueri</td>\n",
       "      <td>Etanol</td>\n",
       "      <td>R$/litro</td>\n",
       "      <td>5</td>\n",
       "      <td>0.619567</td>\n",
       "      <td>0.856467</td>\n",
       "      <td>2004-05-01</td>\n",
       "    </tr>\n",
       "    <tr>\n",
       "      <th>4</th>\n",
       "      <td>White Label</td>\n",
       "      <td>SP</td>\n",
       "      <td>São Paulo</td>\n",
       "      <td>3513009</td>\n",
       "      <td>Cotia</td>\n",
       "      <td>Etanol</td>\n",
       "      <td>R$/litro</td>\n",
       "      <td>21</td>\n",
       "      <td>0.604228</td>\n",
       "      <td>0.804345</td>\n",
       "      <td>2004-05-01</td>\n",
       "    </tr>\n",
       "  </tbody>\n",
       "</table>\n",
       "</div>"
      ],
      "text/plain": [
       "  bandeira_revenda_cat sigla_uf sigla_uf_nome id_municipio id_municipio_nome  \\\n",
       "0          White Label       BA         Bahia      2917607        Jaguaquara   \n",
       "1           Blue Label       SP     São Paulo      3550308         São Paulo   \n",
       "2          Green Label       SP     São Paulo      3550308         São Paulo   \n",
       "3          Green Label       SP     São Paulo      3505708           Barueri   \n",
       "4          White Label       SP     São Paulo      3513009             Cotia   \n",
       "\n",
       "    produto unidade_medida  n_estabelecimentos  avg_preco_compra  \\\n",
       "0  Gasolina       R$/litro                   5          1.723251   \n",
       "1    Diesel       R$/litro                  33          1.225628   \n",
       "2    Diesel       R$/litro                 128          1.224991   \n",
       "3    Etanol       R$/litro                   5          0.619567   \n",
       "4    Etanol       R$/litro                  21          0.604228   \n",
       "\n",
       "   avg_preco_venda       data  \n",
       "0         2.030526 2004-05-01  \n",
       "1         1.397636 2004-05-01  \n",
       "2         1.415282 2004-05-01  \n",
       "3         0.856467 2004-05-01  \n",
       "4         0.804345 2004-05-01  "
      ]
     },
     "execution_count": 4,
     "metadata": {},
     "output_type": "execute_result"
    }
   ],
   "source": [
    "df.head()"
   ]
  },
  {
   "cell_type": "code",
   "execution_count": 11,
   "id": "eb882d8f-b0e2-4ff2-8137-eff0b0d72b6a",
   "metadata": {},
   "outputs": [
    {
     "data": {
      "text/html": [
       "<div>\n",
       "<style scoped>\n",
       "    .dataframe tbody tr th:only-of-type {\n",
       "        vertical-align: middle;\n",
       "    }\n",
       "\n",
       "    .dataframe tbody tr th {\n",
       "        vertical-align: top;\n",
       "    }\n",
       "\n",
       "    .dataframe thead th {\n",
       "        text-align: right;\n",
       "    }\n",
       "</style>\n",
       "<table border=\"1\" class=\"dataframe\">\n",
       "  <thead>\n",
       "    <tr style=\"text-align: right;\">\n",
       "      <th></th>\n",
       "      <th>bandeira_revenda_cat</th>\n",
       "      <th>sigla_uf</th>\n",
       "      <th>sigla_uf_nome</th>\n",
       "      <th>id_municipio</th>\n",
       "      <th>id_municipio_nome</th>\n",
       "      <th>produto</th>\n",
       "      <th>unidade_medida</th>\n",
       "      <th>n_estabelecimentos</th>\n",
       "      <th>avg_preco_compra</th>\n",
       "      <th>avg_preco_venda</th>\n",
       "      <th>data</th>\n",
       "    </tr>\n",
       "  </thead>\n",
       "  <tbody>\n",
       "    <tr>\n",
       "      <th>556496</th>\n",
       "      <td>Blue Label</td>\n",
       "      <td>MA</td>\n",
       "      <td>Maranhão</td>\n",
       "      <td>2111300</td>\n",
       "      <td>São Luís</td>\n",
       "      <td>Gasolina</td>\n",
       "      <td>R$/litro</td>\n",
       "      <td>4</td>\n",
       "      <td>NaN</td>\n",
       "      <td>5.836667</td>\n",
       "      <td>2024-08-01</td>\n",
       "    </tr>\n",
       "    <tr>\n",
       "      <th>556497</th>\n",
       "      <td>Blue Label</td>\n",
       "      <td>PA</td>\n",
       "      <td>Pará</td>\n",
       "      <td>1506807</td>\n",
       "      <td>Santarém</td>\n",
       "      <td>Diesel</td>\n",
       "      <td>R$/litro</td>\n",
       "      <td>6</td>\n",
       "      <td>NaN</td>\n",
       "      <td>6.234545</td>\n",
       "      <td>2024-08-01</td>\n",
       "    </tr>\n",
       "    <tr>\n",
       "      <th>556498</th>\n",
       "      <td>Purple Label</td>\n",
       "      <td>SP</td>\n",
       "      <td>São Paulo</td>\n",
       "      <td>3526902</td>\n",
       "      <td>Limeira</td>\n",
       "      <td>Diesel</td>\n",
       "      <td>R$/litro</td>\n",
       "      <td>4</td>\n",
       "      <td>NaN</td>\n",
       "      <td>6.006000</td>\n",
       "      <td>2024-08-01</td>\n",
       "    </tr>\n",
       "    <tr>\n",
       "      <th>556499</th>\n",
       "      <td>Purple Label</td>\n",
       "      <td>SP</td>\n",
       "      <td>São Paulo</td>\n",
       "      <td>3518800</td>\n",
       "      <td>Guarulhos</td>\n",
       "      <td>Diesel</td>\n",
       "      <td>R$/litro</td>\n",
       "      <td>1</td>\n",
       "      <td>NaN</td>\n",
       "      <td>6.040000</td>\n",
       "      <td>2024-08-01</td>\n",
       "    </tr>\n",
       "    <tr>\n",
       "      <th>556500</th>\n",
       "      <td>White Label</td>\n",
       "      <td>PB</td>\n",
       "      <td>Paraíba</td>\n",
       "      <td>2503209</td>\n",
       "      <td>Cabedelo</td>\n",
       "      <td>Etanol</td>\n",
       "      <td>R$/litro</td>\n",
       "      <td>4</td>\n",
       "      <td>NaN</td>\n",
       "      <td>4.753750</td>\n",
       "      <td>2024-08-01</td>\n",
       "    </tr>\n",
       "  </tbody>\n",
       "</table>\n",
       "</div>"
      ],
      "text/plain": [
       "       bandeira_revenda_cat sigla_uf sigla_uf_nome id_municipio  \\\n",
       "556496           Blue Label       MA      Maranhão      2111300   \n",
       "556497           Blue Label       PA          Pará      1506807   \n",
       "556498         Purple Label       SP     São Paulo      3526902   \n",
       "556499         Purple Label       SP     São Paulo      3518800   \n",
       "556500          White Label       PB       Paraíba      2503209   \n",
       "\n",
       "       id_municipio_nome   produto unidade_medida  n_estabelecimentos  \\\n",
       "556496          São Luís  Gasolina       R$/litro                   4   \n",
       "556497          Santarém    Diesel       R$/litro                   6   \n",
       "556498           Limeira    Diesel       R$/litro                   4   \n",
       "556499         Guarulhos    Diesel       R$/litro                   1   \n",
       "556500          Cabedelo    Etanol       R$/litro                   4   \n",
       "\n",
       "        avg_preco_compra  avg_preco_venda       data  \n",
       "556496               NaN         5.836667 2024-08-01  \n",
       "556497               NaN         6.234545 2024-08-01  \n",
       "556498               NaN         6.006000 2024-08-01  \n",
       "556499               NaN         6.040000 2024-08-01  \n",
       "556500               NaN         4.753750 2024-08-01  "
      ]
     },
     "execution_count": 11,
     "metadata": {},
     "output_type": "execute_result"
    }
   ],
   "source": [
    "df.tail()"
   ]
  },
  {
   "cell_type": "code",
   "execution_count": 8,
   "id": "5093d817-8838-4a1f-8f67-c937086f5513",
   "metadata": {},
   "outputs": [
    {
     "data": {
      "text/html": [
       "<div>\n",
       "<style scoped>\n",
       "    .dataframe tbody tr th:only-of-type {\n",
       "        vertical-align: middle;\n",
       "    }\n",
       "\n",
       "    .dataframe tbody tr th {\n",
       "        vertical-align: top;\n",
       "    }\n",
       "\n",
       "    .dataframe thead th {\n",
       "        text-align: right;\n",
       "    }\n",
       "</style>\n",
       "<table border=\"1\" class=\"dataframe\">\n",
       "  <thead>\n",
       "    <tr style=\"text-align: right;\">\n",
       "      <th></th>\n",
       "      <th>n_estabelecimentos</th>\n",
       "      <th>avg_preco_compra</th>\n",
       "      <th>avg_preco_venda</th>\n",
       "      <th>data</th>\n",
       "    </tr>\n",
       "  </thead>\n",
       "  <tbody>\n",
       "    <tr>\n",
       "      <th>count</th>\n",
       "      <td>556501.000000</td>\n",
       "      <td>331360.000000</td>\n",
       "      <td>556501.000000</td>\n",
       "      <td>556501</td>\n",
       "    </tr>\n",
       "    <tr>\n",
       "      <th>mean</th>\n",
       "      <td>6.343187</td>\n",
       "      <td>2.278602</td>\n",
       "      <td>3.270554</td>\n",
       "      <td>2015-04-05 23:16:10.432758016</td>\n",
       "    </tr>\n",
       "    <tr>\n",
       "      <th>min</th>\n",
       "      <td>1.000000</td>\n",
       "      <td>0.413200</td>\n",
       "      <td>0.668744</td>\n",
       "      <td>2004-05-01 00:00:00</td>\n",
       "    </tr>\n",
       "    <tr>\n",
       "      <th>25%</th>\n",
       "      <td>2.000000</td>\n",
       "      <td>1.746553</td>\n",
       "      <td>2.205714</td>\n",
       "      <td>2010-07-01 00:00:00</td>\n",
       "    </tr>\n",
       "    <tr>\n",
       "      <th>50%</th>\n",
       "      <td>3.000000</td>\n",
       "      <td>2.190800</td>\n",
       "      <td>2.894286</td>\n",
       "      <td>2015-07-01 00:00:00</td>\n",
       "    </tr>\n",
       "    <tr>\n",
       "      <th>75%</th>\n",
       "      <td>6.000000</td>\n",
       "      <td>2.649900</td>\n",
       "      <td>3.967500</td>\n",
       "      <td>2020-03-01 00:00:00</td>\n",
       "    </tr>\n",
       "    <tr>\n",
       "      <th>max</th>\n",
       "      <td>1096.000000</td>\n",
       "      <td>4.747100</td>\n",
       "      <td>8.990000</td>\n",
       "      <td>2024-08-01 00:00:00</td>\n",
       "    </tr>\n",
       "    <tr>\n",
       "      <th>std</th>\n",
       "      <td>15.529743</td>\n",
       "      <td>0.713028</td>\n",
       "      <td>1.390611</td>\n",
       "      <td>NaN</td>\n",
       "    </tr>\n",
       "  </tbody>\n",
       "</table>\n",
       "</div>"
      ],
      "text/plain": [
       "       n_estabelecimentos  avg_preco_compra  avg_preco_venda  \\\n",
       "count       556501.000000     331360.000000    556501.000000   \n",
       "mean             6.343187          2.278602         3.270554   \n",
       "min              1.000000          0.413200         0.668744   \n",
       "25%              2.000000          1.746553         2.205714   \n",
       "50%              3.000000          2.190800         2.894286   \n",
       "75%              6.000000          2.649900         3.967500   \n",
       "max           1096.000000          4.747100         8.990000   \n",
       "std             15.529743          0.713028         1.390611   \n",
       "\n",
       "                                data  \n",
       "count                         556501  \n",
       "mean   2015-04-05 23:16:10.432758016  \n",
       "min              2004-05-01 00:00:00  \n",
       "25%              2010-07-01 00:00:00  \n",
       "50%              2015-07-01 00:00:00  \n",
       "75%              2020-03-01 00:00:00  \n",
       "max              2024-08-01 00:00:00  \n",
       "std                              NaN  "
      ]
     },
     "execution_count": 8,
     "metadata": {},
     "output_type": "execute_result"
    }
   ],
   "source": [
    "df.describe()"
   ]
  },
  {
   "cell_type": "code",
   "execution_count": 9,
   "id": "3075e663-d68b-46c1-be20-27e384d7bc28",
   "metadata": {},
   "outputs": [],
   "source": [
    "nan_df = df.isna()"
   ]
  },
  {
   "cell_type": "code",
   "execution_count": 10,
   "id": "6f06811d-3c18-4486-bd04-2e27815777a7",
   "metadata": {},
   "outputs": [
    {
     "data": {
      "text/html": [
       "<div>\n",
       "<style scoped>\n",
       "    .dataframe tbody tr th:only-of-type {\n",
       "        vertical-align: middle;\n",
       "    }\n",
       "\n",
       "    .dataframe tbody tr th {\n",
       "        vertical-align: top;\n",
       "    }\n",
       "\n",
       "    .dataframe thead th {\n",
       "        text-align: right;\n",
       "    }\n",
       "</style>\n",
       "<table border=\"1\" class=\"dataframe\">\n",
       "  <thead>\n",
       "    <tr style=\"text-align: right;\">\n",
       "      <th></th>\n",
       "      <th>bandeira_revenda_cat</th>\n",
       "      <th>sigla_uf</th>\n",
       "      <th>sigla_uf_nome</th>\n",
       "      <th>id_municipio</th>\n",
       "      <th>id_municipio_nome</th>\n",
       "      <th>produto</th>\n",
       "      <th>unidade_medida</th>\n",
       "      <th>n_estabelecimentos</th>\n",
       "      <th>avg_preco_compra</th>\n",
       "      <th>avg_preco_venda</th>\n",
       "      <th>data</th>\n",
       "    </tr>\n",
       "  </thead>\n",
       "  <tbody>\n",
       "    <tr>\n",
       "      <th>0</th>\n",
       "      <td>False</td>\n",
       "      <td>False</td>\n",
       "      <td>False</td>\n",
       "      <td>False</td>\n",
       "      <td>False</td>\n",
       "      <td>False</td>\n",
       "      <td>False</td>\n",
       "      <td>False</td>\n",
       "      <td>False</td>\n",
       "      <td>False</td>\n",
       "      <td>False</td>\n",
       "    </tr>\n",
       "    <tr>\n",
       "      <th>1</th>\n",
       "      <td>False</td>\n",
       "      <td>False</td>\n",
       "      <td>False</td>\n",
       "      <td>False</td>\n",
       "      <td>False</td>\n",
       "      <td>False</td>\n",
       "      <td>False</td>\n",
       "      <td>False</td>\n",
       "      <td>False</td>\n",
       "      <td>False</td>\n",
       "      <td>False</td>\n",
       "    </tr>\n",
       "    <tr>\n",
       "      <th>2</th>\n",
       "      <td>False</td>\n",
       "      <td>False</td>\n",
       "      <td>False</td>\n",
       "      <td>False</td>\n",
       "      <td>False</td>\n",
       "      <td>False</td>\n",
       "      <td>False</td>\n",
       "      <td>False</td>\n",
       "      <td>False</td>\n",
       "      <td>False</td>\n",
       "      <td>False</td>\n",
       "    </tr>\n",
       "    <tr>\n",
       "      <th>3</th>\n",
       "      <td>False</td>\n",
       "      <td>False</td>\n",
       "      <td>False</td>\n",
       "      <td>False</td>\n",
       "      <td>False</td>\n",
       "      <td>False</td>\n",
       "      <td>False</td>\n",
       "      <td>False</td>\n",
       "      <td>False</td>\n",
       "      <td>False</td>\n",
       "      <td>False</td>\n",
       "    </tr>\n",
       "    <tr>\n",
       "      <th>4</th>\n",
       "      <td>False</td>\n",
       "      <td>False</td>\n",
       "      <td>False</td>\n",
       "      <td>False</td>\n",
       "      <td>False</td>\n",
       "      <td>False</td>\n",
       "      <td>False</td>\n",
       "      <td>False</td>\n",
       "      <td>False</td>\n",
       "      <td>False</td>\n",
       "      <td>False</td>\n",
       "    </tr>\n",
       "    <tr>\n",
       "      <th>...</th>\n",
       "      <td>...</td>\n",
       "      <td>...</td>\n",
       "      <td>...</td>\n",
       "      <td>...</td>\n",
       "      <td>...</td>\n",
       "      <td>...</td>\n",
       "      <td>...</td>\n",
       "      <td>...</td>\n",
       "      <td>...</td>\n",
       "      <td>...</td>\n",
       "      <td>...</td>\n",
       "    </tr>\n",
       "    <tr>\n",
       "      <th>556496</th>\n",
       "      <td>False</td>\n",
       "      <td>False</td>\n",
       "      <td>False</td>\n",
       "      <td>False</td>\n",
       "      <td>False</td>\n",
       "      <td>False</td>\n",
       "      <td>False</td>\n",
       "      <td>False</td>\n",
       "      <td>True</td>\n",
       "      <td>False</td>\n",
       "      <td>False</td>\n",
       "    </tr>\n",
       "    <tr>\n",
       "      <th>556497</th>\n",
       "      <td>False</td>\n",
       "      <td>False</td>\n",
       "      <td>False</td>\n",
       "      <td>False</td>\n",
       "      <td>False</td>\n",
       "      <td>False</td>\n",
       "      <td>False</td>\n",
       "      <td>False</td>\n",
       "      <td>True</td>\n",
       "      <td>False</td>\n",
       "      <td>False</td>\n",
       "    </tr>\n",
       "    <tr>\n",
       "      <th>556498</th>\n",
       "      <td>False</td>\n",
       "      <td>False</td>\n",
       "      <td>False</td>\n",
       "      <td>False</td>\n",
       "      <td>False</td>\n",
       "      <td>False</td>\n",
       "      <td>False</td>\n",
       "      <td>False</td>\n",
       "      <td>True</td>\n",
       "      <td>False</td>\n",
       "      <td>False</td>\n",
       "    </tr>\n",
       "    <tr>\n",
       "      <th>556499</th>\n",
       "      <td>False</td>\n",
       "      <td>False</td>\n",
       "      <td>False</td>\n",
       "      <td>False</td>\n",
       "      <td>False</td>\n",
       "      <td>False</td>\n",
       "      <td>False</td>\n",
       "      <td>False</td>\n",
       "      <td>True</td>\n",
       "      <td>False</td>\n",
       "      <td>False</td>\n",
       "    </tr>\n",
       "    <tr>\n",
       "      <th>556500</th>\n",
       "      <td>False</td>\n",
       "      <td>False</td>\n",
       "      <td>False</td>\n",
       "      <td>False</td>\n",
       "      <td>False</td>\n",
       "      <td>False</td>\n",
       "      <td>False</td>\n",
       "      <td>False</td>\n",
       "      <td>True</td>\n",
       "      <td>False</td>\n",
       "      <td>False</td>\n",
       "    </tr>\n",
       "  </tbody>\n",
       "</table>\n",
       "<p>556501 rows × 11 columns</p>\n",
       "</div>"
      ],
      "text/plain": [
       "        bandeira_revenda_cat  sigla_uf  sigla_uf_nome  id_municipio  \\\n",
       "0                      False     False          False         False   \n",
       "1                      False     False          False         False   \n",
       "2                      False     False          False         False   \n",
       "3                      False     False          False         False   \n",
       "4                      False     False          False         False   \n",
       "...                      ...       ...            ...           ...   \n",
       "556496                 False     False          False         False   \n",
       "556497                 False     False          False         False   \n",
       "556498                 False     False          False         False   \n",
       "556499                 False     False          False         False   \n",
       "556500                 False     False          False         False   \n",
       "\n",
       "        id_municipio_nome  produto  unidade_medida  n_estabelecimentos  \\\n",
       "0                   False    False           False               False   \n",
       "1                   False    False           False               False   \n",
       "2                   False    False           False               False   \n",
       "3                   False    False           False               False   \n",
       "4                   False    False           False               False   \n",
       "...                   ...      ...             ...                 ...   \n",
       "556496              False    False           False               False   \n",
       "556497              False    False           False               False   \n",
       "556498              False    False           False               False   \n",
       "556499              False    False           False               False   \n",
       "556500              False    False           False               False   \n",
       "\n",
       "        avg_preco_compra  avg_preco_venda   data  \n",
       "0                  False            False  False  \n",
       "1                  False            False  False  \n",
       "2                  False            False  False  \n",
       "3                  False            False  False  \n",
       "4                  False            False  False  \n",
       "...                  ...              ...    ...  \n",
       "556496              True            False  False  \n",
       "556497              True            False  False  \n",
       "556498              True            False  False  \n",
       "556499              True            False  False  \n",
       "556500              True            False  False  \n",
       "\n",
       "[556501 rows x 11 columns]"
      ]
     },
     "execution_count": 10,
     "metadata": {},
     "output_type": "execute_result"
    }
   ],
   "source": [
    "nan_df"
   ]
  },
  {
   "cell_type": "markdown",
   "id": "33e099a5-3961-4d4b-bd62-99babc6655e7",
   "metadata": {},
   "source": [
    "Getting information about column names and types:"
   ]
  },
  {
   "cell_type": "code",
   "execution_count": 5,
   "id": "86be1cc8-6982-4f78-82b5-5d8396de053b",
   "metadata": {},
   "outputs": [
    {
     "data": {
      "text/plain": [
       "['bandeira_revenda_cat',\n",
       " 'sigla_uf',\n",
       " 'sigla_uf_nome',\n",
       " 'id_municipio',\n",
       " 'id_municipio_nome',\n",
       " 'produto',\n",
       " 'unidade_medida',\n",
       " 'n_estabelecimentos',\n",
       " 'avg_preco_compra',\n",
       " 'avg_preco_venda',\n",
       " 'data']"
      ]
     },
     "execution_count": 5,
     "metadata": {},
     "output_type": "execute_result"
    }
   ],
   "source": [
    "columns = df.columns.tolist()\n",
    "columns"
   ]
  },
  {
   "cell_type": "code",
   "execution_count": 6,
   "id": "0641cf8d-c04c-4812-bfb6-71a3a7d77b3e",
   "metadata": {},
   "outputs": [
    {
     "data": {
      "text/plain": [
       "{'bandeira_revenda_cat': dtype('O'),\n",
       " 'sigla_uf': dtype('O'),\n",
       " 'sigla_uf_nome': dtype('O'),\n",
       " 'id_municipio': dtype('O'),\n",
       " 'id_municipio_nome': dtype('O'),\n",
       " 'produto': dtype('O'),\n",
       " 'unidade_medida': dtype('O'),\n",
       " 'n_estabelecimentos': dtype('int64'),\n",
       " 'avg_preco_compra': dtype('float64'),\n",
       " 'avg_preco_venda': dtype('float64'),\n",
       " 'data': dtype('<M8[ns]')}"
      ]
     },
     "execution_count": 6,
     "metadata": {},
     "output_type": "execute_result"
    }
   ],
   "source": [
    "types = df.dtypes.to_dict()\n",
    "types"
   ]
  },
  {
   "cell_type": "code",
   "execution_count": 7,
   "id": "51d6962d-50b9-4f78-b7c9-b36243d170f6",
   "metadata": {},
   "outputs": [
    {
     "data": {
      "text/html": [
       "<div>\n",
       "<style scoped>\n",
       "    .dataframe tbody tr th:only-of-type {\n",
       "        vertical-align: middle;\n",
       "    }\n",
       "\n",
       "    .dataframe tbody tr th {\n",
       "        vertical-align: top;\n",
       "    }\n",
       "\n",
       "    .dataframe thead th {\n",
       "        text-align: right;\n",
       "    }\n",
       "</style>\n",
       "<table border=\"1\" class=\"dataframe\">\n",
       "  <thead>\n",
       "    <tr style=\"text-align: right;\">\n",
       "      <th></th>\n",
       "      <th>bandeira_revenda_cat</th>\n",
       "      <th>sigla_uf</th>\n",
       "      <th>sigla_uf_nome</th>\n",
       "      <th>id_municipio</th>\n",
       "      <th>id_municipio_nome</th>\n",
       "      <th>produto</th>\n",
       "      <th>unidade_medida</th>\n",
       "      <th>n_estabelecimentos</th>\n",
       "      <th>avg_preco_compra</th>\n",
       "      <th>avg_preco_venda</th>\n",
       "      <th>data</th>\n",
       "    </tr>\n",
       "  </thead>\n",
       "  <tbody>\n",
       "    <tr>\n",
       "      <th>526501</th>\n",
       "      <td>White Label</td>\n",
       "      <td>MA</td>\n",
       "      <td>Maranhão</td>\n",
       "      <td>2111201</td>\n",
       "      <td>São José de Ribamar</td>\n",
       "      <td>Etanol</td>\n",
       "      <td>R$/litro</td>\n",
       "      <td>11</td>\n",
       "      <td>NaN</td>\n",
       "      <td>4.063000</td>\n",
       "      <td>2023-11-01</td>\n",
       "    </tr>\n",
       "    <tr>\n",
       "      <th>526502</th>\n",
       "      <td>Blue Label</td>\n",
       "      <td>RO</td>\n",
       "      <td>Rondônia</td>\n",
       "      <td>1100189</td>\n",
       "      <td>Pimenta Bueno</td>\n",
       "      <td>Diesel</td>\n",
       "      <td>R$/litro</td>\n",
       "      <td>3</td>\n",
       "      <td>NaN</td>\n",
       "      <td>6.686667</td>\n",
       "      <td>2023-11-01</td>\n",
       "    </tr>\n",
       "    <tr>\n",
       "      <th>526503</th>\n",
       "      <td>White Label</td>\n",
       "      <td>TO</td>\n",
       "      <td>Tocantins</td>\n",
       "      <td>1721000</td>\n",
       "      <td>Palmas</td>\n",
       "      <td>Gasolina</td>\n",
       "      <td>R$/litro</td>\n",
       "      <td>25</td>\n",
       "      <td>NaN</td>\n",
       "      <td>5.813455</td>\n",
       "      <td>2023-11-01</td>\n",
       "    </tr>\n",
       "    <tr>\n",
       "      <th>526504</th>\n",
       "      <td>White Label</td>\n",
       "      <td>PB</td>\n",
       "      <td>Paraíba</td>\n",
       "      <td>2507507</td>\n",
       "      <td>João Pessoa</td>\n",
       "      <td>Diesel</td>\n",
       "      <td>R$/litro</td>\n",
       "      <td>2</td>\n",
       "      <td>NaN</td>\n",
       "      <td>5.770000</td>\n",
       "      <td>2023-11-01</td>\n",
       "    </tr>\n",
       "    <tr>\n",
       "      <th>526505</th>\n",
       "      <td>Purple Label</td>\n",
       "      <td>PB</td>\n",
       "      <td>Paraíba</td>\n",
       "      <td>2504009</td>\n",
       "      <td>Campina Grande</td>\n",
       "      <td>Gasolina</td>\n",
       "      <td>R$/litro</td>\n",
       "      <td>1</td>\n",
       "      <td>NaN</td>\n",
       "      <td>5.530000</td>\n",
       "      <td>2023-11-01</td>\n",
       "    </tr>\n",
       "    <tr>\n",
       "      <th>...</th>\n",
       "      <td>...</td>\n",
       "      <td>...</td>\n",
       "      <td>...</td>\n",
       "      <td>...</td>\n",
       "      <td>...</td>\n",
       "      <td>...</td>\n",
       "      <td>...</td>\n",
       "      <td>...</td>\n",
       "      <td>...</td>\n",
       "      <td>...</td>\n",
       "      <td>...</td>\n",
       "    </tr>\n",
       "    <tr>\n",
       "      <th>556496</th>\n",
       "      <td>Blue Label</td>\n",
       "      <td>MA</td>\n",
       "      <td>Maranhão</td>\n",
       "      <td>2111300</td>\n",
       "      <td>São Luís</td>\n",
       "      <td>Gasolina</td>\n",
       "      <td>R$/litro</td>\n",
       "      <td>4</td>\n",
       "      <td>NaN</td>\n",
       "      <td>5.836667</td>\n",
       "      <td>2024-08-01</td>\n",
       "    </tr>\n",
       "    <tr>\n",
       "      <th>556497</th>\n",
       "      <td>Blue Label</td>\n",
       "      <td>PA</td>\n",
       "      <td>Pará</td>\n",
       "      <td>1506807</td>\n",
       "      <td>Santarém</td>\n",
       "      <td>Diesel</td>\n",
       "      <td>R$/litro</td>\n",
       "      <td>6</td>\n",
       "      <td>NaN</td>\n",
       "      <td>6.234545</td>\n",
       "      <td>2024-08-01</td>\n",
       "    </tr>\n",
       "    <tr>\n",
       "      <th>556498</th>\n",
       "      <td>Purple Label</td>\n",
       "      <td>SP</td>\n",
       "      <td>São Paulo</td>\n",
       "      <td>3526902</td>\n",
       "      <td>Limeira</td>\n",
       "      <td>Diesel</td>\n",
       "      <td>R$/litro</td>\n",
       "      <td>4</td>\n",
       "      <td>NaN</td>\n",
       "      <td>6.006000</td>\n",
       "      <td>2024-08-01</td>\n",
       "    </tr>\n",
       "    <tr>\n",
       "      <th>556499</th>\n",
       "      <td>Purple Label</td>\n",
       "      <td>SP</td>\n",
       "      <td>São Paulo</td>\n",
       "      <td>3518800</td>\n",
       "      <td>Guarulhos</td>\n",
       "      <td>Diesel</td>\n",
       "      <td>R$/litro</td>\n",
       "      <td>1</td>\n",
       "      <td>NaN</td>\n",
       "      <td>6.040000</td>\n",
       "      <td>2024-08-01</td>\n",
       "    </tr>\n",
       "    <tr>\n",
       "      <th>556500</th>\n",
       "      <td>White Label</td>\n",
       "      <td>PB</td>\n",
       "      <td>Paraíba</td>\n",
       "      <td>2503209</td>\n",
       "      <td>Cabedelo</td>\n",
       "      <td>Etanol</td>\n",
       "      <td>R$/litro</td>\n",
       "      <td>4</td>\n",
       "      <td>NaN</td>\n",
       "      <td>4.753750</td>\n",
       "      <td>2024-08-01</td>\n",
       "    </tr>\n",
       "  </tbody>\n",
       "</table>\n",
       "<p>30000 rows × 11 columns</p>\n",
       "</div>"
      ],
      "text/plain": [
       "       bandeira_revenda_cat sigla_uf sigla_uf_nome id_municipio  \\\n",
       "526501          White Label       MA      Maranhão      2111201   \n",
       "526502           Blue Label       RO      Rondônia      1100189   \n",
       "526503          White Label       TO     Tocantins      1721000   \n",
       "526504          White Label       PB       Paraíba      2507507   \n",
       "526505         Purple Label       PB       Paraíba      2504009   \n",
       "...                     ...      ...           ...          ...   \n",
       "556496           Blue Label       MA      Maranhão      2111300   \n",
       "556497           Blue Label       PA          Pará      1506807   \n",
       "556498         Purple Label       SP     São Paulo      3526902   \n",
       "556499         Purple Label       SP     São Paulo      3518800   \n",
       "556500          White Label       PB       Paraíba      2503209   \n",
       "\n",
       "          id_municipio_nome   produto unidade_medida  n_estabelecimentos  \\\n",
       "526501  São José de Ribamar    Etanol       R$/litro                  11   \n",
       "526502        Pimenta Bueno    Diesel       R$/litro                   3   \n",
       "526503               Palmas  Gasolina       R$/litro                  25   \n",
       "526504          João Pessoa    Diesel       R$/litro                   2   \n",
       "526505       Campina Grande  Gasolina       R$/litro                   1   \n",
       "...                     ...       ...            ...                 ...   \n",
       "556496             São Luís  Gasolina       R$/litro                   4   \n",
       "556497             Santarém    Diesel       R$/litro                   6   \n",
       "556498              Limeira    Diesel       R$/litro                   4   \n",
       "556499            Guarulhos    Diesel       R$/litro                   1   \n",
       "556500             Cabedelo    Etanol       R$/litro                   4   \n",
       "\n",
       "        avg_preco_compra  avg_preco_venda       data  \n",
       "526501               NaN         4.063000 2023-11-01  \n",
       "526502               NaN         6.686667 2023-11-01  \n",
       "526503               NaN         5.813455 2023-11-01  \n",
       "526504               NaN         5.770000 2023-11-01  \n",
       "526505               NaN         5.530000 2023-11-01  \n",
       "...                  ...              ...        ...  \n",
       "556496               NaN         5.836667 2024-08-01  \n",
       "556497               NaN         6.234545 2024-08-01  \n",
       "556498               NaN         6.006000 2024-08-01  \n",
       "556499               NaN         6.040000 2024-08-01  \n",
       "556500               NaN         4.753750 2024-08-01  \n",
       "\n",
       "[30000 rows x 11 columns]"
      ]
     },
     "execution_count": 7,
     "metadata": {},
     "output_type": "execute_result"
    }
   ],
   "source": [
    "df.tail(30000)"
   ]
  },
  {
   "cell_type": "markdown",
   "id": "8bc4bb7f-3988-446e-a583-21bde1f20aee",
   "metadata": {},
   "source": [
    "Pre-processing the data:"
   ]
  },
  {
   "cell_type": "code",
   "execution_count": 7,
   "id": "5bfa07e8-8db6-4ec4-a514-27ba17287566",
   "metadata": {},
   "outputs": [],
   "source": [
    "def data_prep(df):\n",
    "    '''\n",
    "    This function is responsible for:\n",
    "        1) Sample the data set\n",
    "        2) Remove nan values\n",
    "        3) Tranform categorical into numerical information \n",
    "        4) Removing columns with unique values\n",
    "        5) Tranforming skewed and wide range variable distributions\n",
    "        6) Sorting by data\n",
    "        7) Removing \"duplicate\" information (similar variables)\n",
    "\n",
    "    -----------\n",
    "    Parameters\n",
    "    -----------\n",
    "    \n",
    "    df : pandas dataframe\n",
    "        Contains the dataframe with the whole data\n",
    "\n",
    "    -----------\n",
    "    Returns\n",
    "    -----------\n",
    "\n",
    "    df : pandas dataframe\n",
    "        The modified dataframe\n",
    "    '''\n",
    "\n",
    "    #1) Sampling the data set\n",
    "    df = df.sample(frac = 1)\n",
    "\n",
    "    #2) Removing nan values\n",
    "    df = df.dropna()\n",
    "\n",
    "    #3) Transforming categorical to numerical information\n",
    "    LE = LabelEncoder()\n",
    "    for i in range(len(columns)):\n",
    "        if types[columns[i]] == 'object':\n",
    "            df[columns[i]] = LE.fit_transform(df[columns[i]])\n",
    "        \n",
    "    #4) Removing columns with unique values\n",
    "    for i in range(len(columns)):\n",
    "        if df[columns[i]].unique().shape[0] == 1:\n",
    "            df = df.drop(columns[i], axis = 1)\n",
    "\n",
    "    #5) Tranforming skewed and wide range variable distributions\n",
    "    df['n_estabelecimentos'] = np.log10(df['n_estabelecimentos'])\n",
    "\n",
    "    #6) Sorting by data\n",
    "    df = df.sort_values(by = 'data')\n",
    "\n",
    "    #7) Sorting by data\n",
    "    df = df.drop('sigla_uf_nome', axis = 1)\n",
    "    df = df.drop('id_municipio_nome', axis = 1)\n",
    "\n",
    "    return df"
   ]
  },
  {
   "cell_type": "code",
   "execution_count": 8,
   "id": "97aba2d3-751f-4071-b461-37b9468fde4a",
   "metadata": {},
   "outputs": [
    {
     "data": {
      "text/plain": [
       "(556501, 11)"
      ]
     },
     "execution_count": 8,
     "metadata": {},
     "output_type": "execute_result"
    }
   ],
   "source": [
    "df.shape"
   ]
  },
  {
   "cell_type": "code",
   "execution_count": 9,
   "id": "c9f7e18b-389b-4580-9213-006e420284eb",
   "metadata": {},
   "outputs": [
    {
     "data": {
      "text/plain": [
       "(331360, 8)"
      ]
     },
     "execution_count": 9,
     "metadata": {},
     "output_type": "execute_result"
    }
   ],
   "source": [
    "df = data_prep(df)\n",
    "df.shape"
   ]
  },
  {
   "cell_type": "markdown",
   "id": "ae5ec606-2ab5-4d25-ad17-c23b62dfb4bf",
   "metadata": {},
   "source": [
    "Getting the new columns and types:"
   ]
  },
  {
   "cell_type": "code",
   "execution_count": 10,
   "id": "e44710ab-2e2f-4c7c-8738-fad98ddd4013",
   "metadata": {},
   "outputs": [],
   "source": [
    "columns = df.columns.tolist()"
   ]
  },
  {
   "cell_type": "code",
   "execution_count": 11,
   "id": "09ab7741-ebb8-43f8-9d26-f356244cbd5c",
   "metadata": {},
   "outputs": [],
   "source": [
    "types = df.dtypes.to_dict()"
   ]
  },
  {
   "cell_type": "markdown",
   "id": "252d4d90-554f-47e7-a431-b3da7005a2b5",
   "metadata": {},
   "source": [
    "Taking a look at how the data looks like:"
   ]
  },
  {
   "cell_type": "code",
   "execution_count": 12,
   "id": "7d6b4b65-caec-49d1-bee8-76271bd29e5a",
   "metadata": {},
   "outputs": [
    {
     "data": {
      "text/plain": [
       "array([[<Axes: title={'center': 'bandeira_revenda_cat'}>,\n",
       "        <Axes: title={'center': 'sigla_uf'}>,\n",
       "        <Axes: title={'center': 'id_municipio'}>],\n",
       "       [<Axes: title={'center': 'produto'}>,\n",
       "        <Axes: title={'center': 'n_estabelecimentos'}>,\n",
       "        <Axes: title={'center': 'avg_preco_compra'}>],\n",
       "       [<Axes: title={'center': 'avg_preco_venda'}>,\n",
       "        <Axes: title={'center': 'data'}>, <Axes: >]], dtype=object)"
      ]
     },
     "execution_count": 12,
     "metadata": {},
     "output_type": "execute_result"
    },
    {
     "data": {
      "text/plain": [
       "<Figure size 640x480 with 0 Axes>"
      ]
     },
     "metadata": {},
     "output_type": "display_data"
    },
    {
     "data": {
      "image/png": "[encoded data removed]",
      "text/plain": [
       "<Figure size 1500x1500 with 9 Axes>"
      ]
     },
     "metadata": {},
     "output_type": "display_data"
    }
   ],
   "source": [
    "plt.figure(dpi = 100)\n",
    "df.hist(bins = 10, figsize = (15, 15))"
   ]
  },
  {
   "cell_type": "markdown",
   "id": "d5eeb117-4bb6-4692-9f47-a6d717030ad6",
   "metadata": {},
   "source": [
    "A bit about the statistics of the dataset:"
   ]
  },
  {
   "cell_type": "code",
   "execution_count": 13,
   "id": "ef3a727b-d3a9-4cd9-b3e9-f24110eb4cc2",
   "metadata": {},
   "outputs": [
    {
     "data": {
      "text/html": [
       "<div>\n",
       "<style scoped>\n",
       "    .dataframe tbody tr th:only-of-type {\n",
       "        vertical-align: middle;\n",
       "    }\n",
       "\n",
       "    .dataframe tbody tr th {\n",
       "        vertical-align: top;\n",
       "    }\n",
       "\n",
       "    .dataframe thead th {\n",
       "        text-align: right;\n",
       "    }\n",
       "</style>\n",
       "<table border=\"1\" class=\"dataframe\">\n",
       "  <thead>\n",
       "    <tr style=\"text-align: right;\">\n",
       "      <th></th>\n",
       "      <th>bandeira_revenda_cat</th>\n",
       "      <th>sigla_uf</th>\n",
       "      <th>id_municipio</th>\n",
       "      <th>produto</th>\n",
       "      <th>n_estabelecimentos</th>\n",
       "      <th>avg_preco_compra</th>\n",
       "      <th>avg_preco_venda</th>\n",
       "      <th>data</th>\n",
       "    </tr>\n",
       "  </thead>\n",
       "  <tbody>\n",
       "    <tr>\n",
       "      <th>count</th>\n",
       "      <td>331360.000000</td>\n",
       "      <td>331360.000000</td>\n",
       "      <td>331360.000000</td>\n",
       "      <td>331360.000000</td>\n",
       "      <td>331360.000000</td>\n",
       "      <td>331360.000000</td>\n",
       "      <td>331360.000000</td>\n",
       "      <td>331360</td>\n",
       "    </tr>\n",
       "    <tr>\n",
       "      <th>mean</th>\n",
       "      <td>1.647009</td>\n",
       "      <td>16.427282</td>\n",
       "      <td>353.915780</td>\n",
       "      <td>1.045591</td>\n",
       "      <td>0.616984</td>\n",
       "      <td>2.278602</td>\n",
       "      <td>2.632024</td>\n",
       "      <td>2012-08-08 15:37:37.518107136</td>\n",
       "    </tr>\n",
       "    <tr>\n",
       "      <th>min</th>\n",
       "      <td>0.000000</td>\n",
       "      <td>0.000000</td>\n",
       "      <td>0.000000</td>\n",
       "      <td>0.000000</td>\n",
       "      <td>0.000000</td>\n",
       "      <td>0.413200</td>\n",
       "      <td>0.668744</td>\n",
       "      <td>2004-05-01 00:00:00</td>\n",
       "    </tr>\n",
       "    <tr>\n",
       "      <th>25%</th>\n",
       "      <td>1.000000</td>\n",
       "      <td>10.000000</td>\n",
       "      <td>220.000000</td>\n",
       "      <td>0.000000</td>\n",
       "      <td>0.301030</td>\n",
       "      <td>1.746553</td>\n",
       "      <td>1.997000</td>\n",
       "      <td>2008-05-01 00:00:00</td>\n",
       "    </tr>\n",
       "    <tr>\n",
       "      <th>50%</th>\n",
       "      <td>2.000000</td>\n",
       "      <td>17.000000</td>\n",
       "      <td>369.000000</td>\n",
       "      <td>1.000000</td>\n",
       "      <td>0.602060</td>\n",
       "      <td>2.190800</td>\n",
       "      <td>2.547333</td>\n",
       "      <td>2013-01-01 00:00:00</td>\n",
       "    </tr>\n",
       "    <tr>\n",
       "      <th>75%</th>\n",
       "      <td>3.000000</td>\n",
       "      <td>25.000000</td>\n",
       "      <td>482.000000</td>\n",
       "      <td>2.000000</td>\n",
       "      <td>0.903090</td>\n",
       "      <td>2.649900</td>\n",
       "      <td>3.075000</td>\n",
       "      <td>2017-03-01 00:00:00</td>\n",
       "    </tr>\n",
       "    <tr>\n",
       "      <th>max</th>\n",
       "      <td>3.000000</td>\n",
       "      <td>26.000000</td>\n",
       "      <td>660.000000</td>\n",
       "      <td>2.000000</td>\n",
       "      <td>3.039811</td>\n",
       "      <td>4.747100</td>\n",
       "      <td>5.438400</td>\n",
       "      <td>2020-08-01 00:00:00</td>\n",
       "    </tr>\n",
       "    <tr>\n",
       "      <th>std</th>\n",
       "      <td>1.152768</td>\n",
       "      <td>7.660722</td>\n",
       "      <td>170.255904</td>\n",
       "      <td>0.822397</td>\n",
       "      <td>0.438201</td>\n",
       "      <td>0.713028</td>\n",
       "      <td>0.800924</td>\n",
       "      <td>NaN</td>\n",
       "    </tr>\n",
       "  </tbody>\n",
       "</table>\n",
       "</div>"
      ],
      "text/plain": [
       "       bandeira_revenda_cat       sigla_uf   id_municipio        produto  \\\n",
       "count         331360.000000  331360.000000  331360.000000  331360.000000   \n",
       "mean               1.647009      16.427282     353.915780       1.045591   \n",
       "min                0.000000       0.000000       0.000000       0.000000   \n",
       "25%                1.000000      10.000000     220.000000       0.000000   \n",
       "50%                2.000000      17.000000     369.000000       1.000000   \n",
       "75%                3.000000      25.000000     482.000000       2.000000   \n",
       "max                3.000000      26.000000     660.000000       2.000000   \n",
       "std                1.152768       7.660722     170.255904       0.822397   \n",
       "\n",
       "       n_estabelecimentos  avg_preco_compra  avg_preco_venda  \\\n",
       "count       331360.000000     331360.000000    331360.000000   \n",
       "mean             0.616984          2.278602         2.632024   \n",
       "min              0.000000          0.413200         0.668744   \n",
       "25%              0.301030          1.746553         1.997000   \n",
       "50%              0.602060          2.190800         2.547333   \n",
       "75%              0.903090          2.649900         3.075000   \n",
       "max              3.039811          4.747100         5.438400   \n",
       "std              0.438201          0.713028         0.800924   \n",
       "\n",
       "                                data  \n",
       "count                         331360  \n",
       "mean   2012-08-08 15:37:37.518107136  \n",
       "min              2004-05-01 00:00:00  \n",
       "25%              2008-05-01 00:00:00  \n",
       "50%              2013-01-01 00:00:00  \n",
       "75%              2017-03-01 00:00:00  \n",
       "max              2020-08-01 00:00:00  \n",
       "std                              NaN  "
      ]
     },
     "execution_count": 13,
     "metadata": {},
     "output_type": "execute_result"
    }
   ],
   "source": [
    "df.describe()"
   ]
  },
  {
   "cell_type": "markdown",
   "id": "111a4d64-6293-4963-be39-3596b304687b",
   "metadata": {},
   "source": [
    "Getting data per product:"
   ]
  },
  {
   "cell_type": "code",
   "execution_count": 14,
   "id": "3e9dfc47-9503-496f-ae15-634b3f4cc7e1",
   "metadata": {},
   "outputs": [],
   "source": [
    "def data_per_product(df):\n",
    "    '''\n",
    "    This function is responsible for:\n",
    "        1) Creating a dataframe per product\n",
    "        2) Grouping the average price by data per product\n",
    "\n",
    "    -----------\n",
    "    Parameters\n",
    "    -----------\n",
    "    \n",
    "    df : pandas dataframe\n",
    "        Contains the dataframe with the whole data\n",
    "\n",
    "    -----------\n",
    "    Returns\n",
    "    -----------\n",
    "\n",
    "    df : pandas dataframe\n",
    "        The modified dataframe\n",
    "    '''\n",
    "\n",
    "    #1) Creating a dataframe per product\n",
    "    df_0 = df[df['produto'] == 0]\n",
    "    df_1 = df[df['produto'] == 1]\n",
    "    df_2 = df[df['produto'] == 2]\n",
    "\n",
    "    #2) Grouping the average price by data per product\n",
    "    new_df_0 = df_0.groupby('data')['avg_preco_venda'].mean().reset_index()\n",
    "    new_df_1 = df_1.groupby('data')['avg_preco_venda'].mean().reset_index()\n",
    "    new_df_2 = df_2.groupby('data')['avg_preco_venda'].mean().reset_index()\n",
    "\n",
    "    #3) Creating new variables\n",
    "    # Average preco de compra\n",
    "    new_df_0['avg_preco_compra'] = df_0.groupby(['data'])['avg_preco_compra'].mean().reset_index()['avg_preco_compra']\n",
    "    new_df_1['avg_preco_compra'] = df_1.groupby(['data'])['avg_preco_compra'].mean().reset_index()['avg_preco_compra']\n",
    "    new_df_2['avg_preco_compra'] = df_2.groupby(['data'])['avg_preco_compra'].mean().reset_index()['avg_preco_compra']\n",
    "    # Monthly price volatility - to sell\n",
    "    new_df_0['volatility_preco_de_venda'] = df_0.groupby(['data'])['avg_preco_venda'].std().reset_index()['avg_preco_venda']\n",
    "    new_df_1['volatility_preco_de_venda'] = df_1.groupby(['data'])['avg_preco_venda'].std().reset_index()['avg_preco_venda']\n",
    "    new_df_2['volatility_preco_de_venda'] = df_2.groupby(['data'])['avg_preco_venda'].std().reset_index()['avg_preco_venda']\n",
    "    # Monthly price volatility - to buy\n",
    "    new_df_0['volatility_preco_de_compra'] = df_0.groupby(['data'])['avg_preco_compra'].std().reset_index()['avg_preco_compra']\n",
    "    new_df_1['volatility_preco_de_compra'] = df_1.groupby(['data'])['avg_preco_compra'].std().reset_index()['avg_preco_compra']\n",
    "    new_df_2['volatility_preco_de_compra'] = df_2.groupby(['data'])['avg_preco_compra'].std().reset_index()['avg_preco_compra']\n",
    "    # Number of establishments\n",
    "    new_df_0['avg_n_estabelecimentos'] = df_0.groupby(['data'])['n_estabelecimentos'].mean().reset_index()['n_estabelecimentos']\n",
    "    new_df_1['avg_n_estabelecimentos'] = df_1.groupby(['data'])['n_estabelecimentos'].mean().reset_index()['n_estabelecimentos']\n",
    "    new_df_2['avg_n_estabelecimentos'] = df_2.groupby(['data'])['n_estabelecimentos'].mean().reset_index()['n_estabelecimentos']\n",
    "    # ID municipio\n",
    "    new_df_0['avg_ID_municipio'] = df_0.groupby(['data'])['id_municipio'].mean().reset_index()['id_municipio']\n",
    "    new_df_1['avg_ID_municipio'] = df_1.groupby(['data'])['id_municipio'].mean().reset_index()['id_municipio']\n",
    "    new_df_2['avg_ID_municipio'] = df_2.groupby(['data'])['id_municipio'].mean().reset_index()['id_municipio']\n",
    "    # Sigla UF\n",
    "    new_df_0['avg_sigla_uf'] = df_0.groupby(['data'])['sigla_uf'].mean().reset_index()['sigla_uf']\n",
    "    new_df_1['avg_sigla_uf'] = df_1.groupby(['data'])['sigla_uf'].mean().reset_index()['sigla_uf']\n",
    "    new_df_2['avg_sigla_uf'] = df_2.groupby(['data'])['sigla_uf'].mean().reset_index()['sigla_uf']\n",
    "    # Bandeira Revenda\n",
    "    new_df_0['avg_bandeira_revenda_cat'] = df_0.groupby(['data'])['bandeira_revenda_cat'].mean().reset_index()['bandeira_revenda_cat']\n",
    "    new_df_1['avg_bandeira_revenda_cat'] = df_1.groupby(['data'])['bandeira_revenda_cat'].mean().reset_index()['bandeira_revenda_cat']\n",
    "    new_df_2['avg_bandeira_revenda_cat'] = df_2.groupby(['data'])['bandeira_revenda_cat'].mean().reset_index()['bandeira_revenda_cat']\n",
    "\n",
    "    return new_df_0, new_df_1, new_df_2"
   ]
  },
  {
   "cell_type": "markdown",
   "id": "d9b0bef3-864a-4eb7-9975-ab4d5ba954d5",
   "metadata": {},
   "source": [
    "Naming the products as (0, 1, 2):"
   ]
  },
  {
   "cell_type": "code",
   "execution_count": 15,
   "id": "905d3a33-cc3b-4198-a18c-98d2ba1d4cf2",
   "metadata": {},
   "outputs": [
    {
     "data": {
      "text/plain": [
       "((93, 9), (93, 9), (93, 9))"
      ]
     },
     "execution_count": 15,
     "metadata": {},
     "output_type": "execute_result"
    }
   ],
   "source": [
    "df_0, df_1, df_2 = data_per_product(df)\n",
    "df_0.shape, df_1.shape, df_2.shape"
   ]
  },
  {
   "cell_type": "markdown",
   "id": "b6dbc069-0722-43be-ba51-d177a79f0e12",
   "metadata": {},
   "source": [
    "Taking a look at how the data looks like for product 0:"
   ]
  },
  {
   "cell_type": "code",
   "execution_count": 16,
   "id": "30c39326-4133-4793-b06b-ae82599a24ea",
   "metadata": {},
   "outputs": [
    {
     "data": {
      "text/html": [
       "<div>\n",
       "<style scoped>\n",
       "    .dataframe tbody tr th:only-of-type {\n",
       "        vertical-align: middle;\n",
       "    }\n",
       "\n",
       "    .dataframe tbody tr th {\n",
       "        vertical-align: top;\n",
       "    }\n",
       "\n",
       "    .dataframe thead th {\n",
       "        text-align: right;\n",
       "    }\n",
       "</style>\n",
       "<table border=\"1\" class=\"dataframe\">\n",
       "  <thead>\n",
       "    <tr style=\"text-align: right;\">\n",
       "      <th></th>\n",
       "      <th>data</th>\n",
       "      <th>avg_preco_venda</th>\n",
       "      <th>avg_preco_compra</th>\n",
       "      <th>volatility_preco_de_venda</th>\n",
       "      <th>volatility_preco_de_compra</th>\n",
       "      <th>avg_n_estabelecimentos</th>\n",
       "      <th>avg_ID_municipio</th>\n",
       "      <th>avg_sigla_uf</th>\n",
       "      <th>avg_bandeira_revenda_cat</th>\n",
       "    </tr>\n",
       "  </thead>\n",
       "  <tbody>\n",
       "    <tr>\n",
       "      <th>0</th>\n",
       "      <td>2004-05-01</td>\n",
       "      <td>1.392554</td>\n",
       "      <td>1.228671</td>\n",
       "      <td>0.076642</td>\n",
       "      <td>0.050648</td>\n",
       "      <td>0.579584</td>\n",
       "      <td>350.418127</td>\n",
       "      <td>16.217523</td>\n",
       "      <td>1.650151</td>\n",
       "    </tr>\n",
       "    <tr>\n",
       "      <th>1</th>\n",
       "      <td>2004-06-01</td>\n",
       "      <td>1.448085</td>\n",
       "      <td>1.266157</td>\n",
       "      <td>0.078116</td>\n",
       "      <td>0.051574</td>\n",
       "      <td>0.575369</td>\n",
       "      <td>349.931055</td>\n",
       "      <td>16.281775</td>\n",
       "      <td>1.644484</td>\n",
       "    </tr>\n",
       "    <tr>\n",
       "      <th>2</th>\n",
       "      <td>2004-07-01</td>\n",
       "      <td>1.499478</td>\n",
       "      <td>1.322518</td>\n",
       "      <td>0.079192</td>\n",
       "      <td>0.053451</td>\n",
       "      <td>0.585732</td>\n",
       "      <td>348.943862</td>\n",
       "      <td>16.254164</td>\n",
       "      <td>1.655151</td>\n",
       "    </tr>\n",
       "    <tr>\n",
       "      <th>3</th>\n",
       "      <td>2005-01-01</td>\n",
       "      <td>1.681600</td>\n",
       "      <td>1.493951</td>\n",
       "      <td>0.088223</td>\n",
       "      <td>0.062278</td>\n",
       "      <td>0.559504</td>\n",
       "      <td>289.820244</td>\n",
       "      <td>11.221640</td>\n",
       "      <td>1.650960</td>\n",
       "    </tr>\n",
       "    <tr>\n",
       "      <th>4</th>\n",
       "      <td>2005-07-01</td>\n",
       "      <td>1.699903</td>\n",
       "      <td>1.514969</td>\n",
       "      <td>0.086216</td>\n",
       "      <td>0.055035</td>\n",
       "      <td>0.583332</td>\n",
       "      <td>346.229375</td>\n",
       "      <td>16.078125</td>\n",
       "      <td>1.645625</td>\n",
       "    </tr>\n",
       "  </tbody>\n",
       "</table>\n",
       "</div>"
      ],
      "text/plain": [
       "        data  avg_preco_venda  avg_preco_compra  volatility_preco_de_venda  \\\n",
       "0 2004-05-01         1.392554          1.228671                   0.076642   \n",
       "1 2004-06-01         1.448085          1.266157                   0.078116   \n",
       "2 2004-07-01         1.499478          1.322518                   0.079192   \n",
       "3 2005-01-01         1.681600          1.493951                   0.088223   \n",
       "4 2005-07-01         1.699903          1.514969                   0.086216   \n",
       "\n",
       "   volatility_preco_de_compra  avg_n_estabelecimentos  avg_ID_municipio  \\\n",
       "0                    0.050648                0.579584        350.418127   \n",
       "1                    0.051574                0.575369        349.931055   \n",
       "2                    0.053451                0.585732        348.943862   \n",
       "3                    0.062278                0.559504        289.820244   \n",
       "4                    0.055035                0.583332        346.229375   \n",
       "\n",
       "   avg_sigla_uf  avg_bandeira_revenda_cat  \n",
       "0     16.217523                  1.650151  \n",
       "1     16.281775                  1.644484  \n",
       "2     16.254164                  1.655151  \n",
       "3     11.221640                  1.650960  \n",
       "4     16.078125                  1.645625  "
      ]
     },
     "execution_count": 16,
     "metadata": {},
     "output_type": "execute_result"
    }
   ],
   "source": [
    "df_0.head()"
   ]
  },
  {
   "cell_type": "markdown",
   "id": "f12284e3-eb88-4844-9b5a-41357772d3e7",
   "metadata": {},
   "source": [
    "Taking a look at the correlation per product:"
   ]
  },
  {
   "cell_type": "code",
   "execution_count": 17,
   "id": "e54ed418-0755-4063-bd08-c836277b03e2",
   "metadata": {},
   "outputs": [],
   "source": [
    "def correlation_heatmap(df):\n",
    "    '''\n",
    "    This function measures the correlation between the variables\n",
    "\n",
    "    -----------\n",
    "    Parameters\n",
    "    -----------\n",
    "    \n",
    "    df : pandas dataframe\n",
    "        Contains the dataframe in question\n",
    "\n",
    "    -----------\n",
    "    Returns\n",
    "    -----------\n",
    "\n",
    "    correlations :  pandas dataframe\n",
    "        Constain all the data attributes with its respective correlations\n",
    "    '''\n",
    "    \n",
    "    correlations = df.corr(method = 'pearson')\n",
    "    \n",
    "    return correlations"
   ]
  },
  {
   "cell_type": "code",
   "execution_count": 18,
   "id": "190bf591-5466-4231-ae04-2f0311c886a9",
   "metadata": {},
   "outputs": [],
   "source": [
    "correlation_0 = correlation_heatmap(df_0)\n",
    "correlation_1 = correlation_heatmap(df_1)\n",
    "correlation_2 = correlation_heatmap(df_2)"
   ]
  },
  {
   "cell_type": "code",
   "execution_count": 19,
   "id": "7c9fddfb-c90b-40e1-b2f0-43a9e70b78de",
   "metadata": {},
   "outputs": [],
   "source": [
    "look_0 = correlation_0['avg_preco_venda'].drop(['avg_preco_venda'])\n",
    "look_1 = correlation_1['avg_preco_venda'].drop(['avg_preco_venda'])\n",
    "look_2 = correlation_2['avg_preco_venda'].drop(['avg_preco_venda'])"
   ]
  },
  {
   "cell_type": "code",
   "execution_count": 20,
   "id": "5ad958e2-89c2-4e77-9e42-b2fa92dd1234",
   "metadata": {},
   "outputs": [
    {
     "data": {
      "text/plain": [
       "Text(0.5, 0, 'Correlation')"
      ]
     },
     "execution_count": 20,
     "metadata": {},
     "output_type": "execute_result"
    },
    {
     "data": {
      "image/png": "[encoded data removed]",
      "text/plain": [
       "<Figure size 800x300 with 3 Axes>"
      ]
     },
     "metadata": {},
     "output_type": "display_data"
    }
   ],
   "source": [
    "fig = plt.figure(dpi = 100, figsize = (8, 3))\n",
    "gs = fig.add_gridspec(1, 3, hspace=0)\n",
    "axs = gs.subplots(sharex=True, sharey=True)\n",
    "\n",
    "axs[0].barh(look_0.index, look_0.values)\n",
    "axs[0].set_title('Product 0')\n",
    "axs[0].set_xlabel('Correlation')\n",
    "\n",
    "axs[1].barh(look_1.index, look_0.values)\n",
    "axs[1].set_title('Product 1')\n",
    "axs[1].set_xlabel('Correlation')\n",
    "\n",
    "axs[2].barh(look_2.index, look_0.values)\n",
    "axs[2].set_title('Product 2')\n",
    "axs[2].set_xlabel('Correlation')"
   ]
  },
  {
   "cell_type": "markdown",
   "id": "4fdd8d83-dc5d-4def-8d4c-622ef10179ce",
   "metadata": {},
   "source": [
    "We can see that the correlations are very similar to each other!"
   ]
  },
  {
   "cell_type": "markdown",
   "id": "b98e5f99-109f-412b-864a-6269ea2cc12c",
   "metadata": {},
   "source": [
    "Getting the index to predict:"
   ]
  },
  {
   "cell_type": "code",
   "execution_count": 21,
   "id": "8d23b162-905c-43d1-9ebd-02d745f363f7",
   "metadata": {},
   "outputs": [],
   "source": [
    "df_0.index = pd.to_datetime(df_0['data'], format='%Y-%m-%d')\n",
    "df_1.index = pd.to_datetime(df_1['data'], format='%Y-%m-%d')\n",
    "df_2.index = pd.to_datetime(df_2['data'], format='%Y-%m-%d')\n",
    "del df_0['data']\n",
    "del df_1['data']\n",
    "del df_2['data']"
   ]
  },
  {
   "cell_type": "code",
   "execution_count": 22,
   "id": "4a264bd2-8860-457d-9619-a42e1230ee4d",
   "metadata": {},
   "outputs": [
    {
     "data": {
      "text/html": [
       "<div>\n",
       "<style scoped>\n",
       "    .dataframe tbody tr th:only-of-type {\n",
       "        vertical-align: middle;\n",
       "    }\n",
       "\n",
       "    .dataframe tbody tr th {\n",
       "        vertical-align: top;\n",
       "    }\n",
       "\n",
       "    .dataframe thead th {\n",
       "        text-align: right;\n",
       "    }\n",
       "</style>\n",
       "<table border=\"1\" class=\"dataframe\">\n",
       "  <thead>\n",
       "    <tr style=\"text-align: right;\">\n",
       "      <th></th>\n",
       "      <th>avg_preco_venda</th>\n",
       "      <th>avg_preco_compra</th>\n",
       "      <th>volatility_preco_de_venda</th>\n",
       "      <th>volatility_preco_de_compra</th>\n",
       "      <th>avg_n_estabelecimentos</th>\n",
       "      <th>avg_ID_municipio</th>\n",
       "      <th>avg_sigla_uf</th>\n",
       "      <th>avg_bandeira_revenda_cat</th>\n",
       "    </tr>\n",
       "    <tr>\n",
       "      <th>data</th>\n",
       "      <th></th>\n",
       "      <th></th>\n",
       "      <th></th>\n",
       "      <th></th>\n",
       "      <th></th>\n",
       "      <th></th>\n",
       "      <th></th>\n",
       "      <th></th>\n",
       "    </tr>\n",
       "  </thead>\n",
       "  <tbody>\n",
       "    <tr>\n",
       "      <th>2004-05-01</th>\n",
       "      <td>1.392554</td>\n",
       "      <td>1.228671</td>\n",
       "      <td>0.076642</td>\n",
       "      <td>0.050648</td>\n",
       "      <td>0.579584</td>\n",
       "      <td>350.418127</td>\n",
       "      <td>16.217523</td>\n",
       "      <td>1.650151</td>\n",
       "    </tr>\n",
       "    <tr>\n",
       "      <th>2004-06-01</th>\n",
       "      <td>1.448085</td>\n",
       "      <td>1.266157</td>\n",
       "      <td>0.078116</td>\n",
       "      <td>0.051574</td>\n",
       "      <td>0.575369</td>\n",
       "      <td>349.931055</td>\n",
       "      <td>16.281775</td>\n",
       "      <td>1.644484</td>\n",
       "    </tr>\n",
       "    <tr>\n",
       "      <th>2004-07-01</th>\n",
       "      <td>1.499478</td>\n",
       "      <td>1.322518</td>\n",
       "      <td>0.079192</td>\n",
       "      <td>0.053451</td>\n",
       "      <td>0.585732</td>\n",
       "      <td>348.943862</td>\n",
       "      <td>16.254164</td>\n",
       "      <td>1.655151</td>\n",
       "    </tr>\n",
       "    <tr>\n",
       "      <th>2005-01-01</th>\n",
       "      <td>1.681600</td>\n",
       "      <td>1.493951</td>\n",
       "      <td>0.088223</td>\n",
       "      <td>0.062278</td>\n",
       "      <td>0.559504</td>\n",
       "      <td>289.820244</td>\n",
       "      <td>11.221640</td>\n",
       "      <td>1.650960</td>\n",
       "    </tr>\n",
       "    <tr>\n",
       "      <th>2005-07-01</th>\n",
       "      <td>1.699903</td>\n",
       "      <td>1.514969</td>\n",
       "      <td>0.086216</td>\n",
       "      <td>0.055035</td>\n",
       "      <td>0.583332</td>\n",
       "      <td>346.229375</td>\n",
       "      <td>16.078125</td>\n",
       "      <td>1.645625</td>\n",
       "    </tr>\n",
       "  </tbody>\n",
       "</table>\n",
       "</div>"
      ],
      "text/plain": [
       "            avg_preco_venda  avg_preco_compra  volatility_preco_de_venda  \\\n",
       "data                                                                       \n",
       "2004-05-01         1.392554          1.228671                   0.076642   \n",
       "2004-06-01         1.448085          1.266157                   0.078116   \n",
       "2004-07-01         1.499478          1.322518                   0.079192   \n",
       "2005-01-01         1.681600          1.493951                   0.088223   \n",
       "2005-07-01         1.699903          1.514969                   0.086216   \n",
       "\n",
       "            volatility_preco_de_compra  avg_n_estabelecimentos  \\\n",
       "data                                                             \n",
       "2004-05-01                    0.050648                0.579584   \n",
       "2004-06-01                    0.051574                0.575369   \n",
       "2004-07-01                    0.053451                0.585732   \n",
       "2005-01-01                    0.062278                0.559504   \n",
       "2005-07-01                    0.055035                0.583332   \n",
       "\n",
       "            avg_ID_municipio  avg_sigla_uf  avg_bandeira_revenda_cat  \n",
       "data                                                                  \n",
       "2004-05-01        350.418127     16.217523                  1.650151  \n",
       "2004-06-01        349.931055     16.281775                  1.644484  \n",
       "2004-07-01        348.943862     16.254164                  1.655151  \n",
       "2005-01-01        289.820244     11.221640                  1.650960  \n",
       "2005-07-01        346.229375     16.078125                  1.645625  "
      ]
     },
     "execution_count": 22,
     "metadata": {},
     "output_type": "execute_result"
    }
   ],
   "source": [
    "df_0.head()"
   ]
  },
  {
   "cell_type": "markdown",
   "id": "2d9c9207-6b58-4da4-a334-7a26c49589b5",
   "metadata": {},
   "source": [
    "Taking a look at the average selling price per product:"
   ]
  },
  {
   "cell_type": "code",
   "execution_count": 23,
   "id": "c3b3f8ad-d70c-4329-b0d3-1a382b54baaf",
   "metadata": {},
   "outputs": [
    {
     "data": {
      "text/plain": [
       "<matplotlib.legend.Legend at 0x32136b210>"
      ]
     },
     "execution_count": 23,
     "metadata": {},
     "output_type": "execute_result"
    },
    {
     "data": {
      "image/png": "[encoded data removed]",
      "text/plain": [
       "<Figure size 1000x500 with 1 Axes>"
      ]
     },
     "metadata": {},
     "output_type": "display_data"
    }
   ],
   "source": [
    "plt.figure(dpi = 100, figsize = (10, 5))\n",
    "plt.ylabel('Average selling price')\n",
    "plt.xlabel('Date')\n",
    "plt.xticks(rotation = 45)\n",
    "plt.plot(df_0.index, df_0['avg_preco_venda'], label = 'Product 0')\n",
    "plt.plot(df_1.index, df_1['avg_preco_venda'], label = 'Product 1')\n",
    "plt.plot(df_2.index, df_2['avg_preco_venda'], label = 'Product 2')\n",
    "plt.legend()"
   ]
  },
  {
   "cell_type": "markdown",
   "id": "136f72ad-63e7-46d3-94d6-915a577a6af4",
   "metadata": {},
   "source": [
    "Let's try to predict the price of product 0 using the correlation"
   ]
  },
  {
   "cell_type": "markdown",
   "id": "8e81865d-e36b-4c6d-9023-f1d454678ce3",
   "metadata": {},
   "source": [
    "First, we have to split the data into training and testing sets: \"2019-09-01\""
   ]
  },
  {
   "cell_type": "code",
   "execution_count": 24,
   "id": "8ce17052-7b88-420a-bf5d-691e5a74d9d2",
   "metadata": {},
   "outputs": [],
   "source": [
    "train_0 = df_0[df_0.index < pd.to_datetime(\"2019-09-01\", format='%Y-%m-%d')]\n",
    "test_0 = df_0[df_0.index > pd.to_datetime(\"2019-08-01\", format='%Y-%m-%d')]"
   ]
  },
  {
   "cell_type": "code",
   "execution_count": 25,
   "id": "e5a472bb-a06e-431f-a1f9-b9324a71851b",
   "metadata": {},
   "outputs": [
    {
     "data": {
      "text/html": [
       "<div>\n",
       "<style scoped>\n",
       "    .dataframe tbody tr th:only-of-type {\n",
       "        vertical-align: middle;\n",
       "    }\n",
       "\n",
       "    .dataframe tbody tr th {\n",
       "        vertical-align: top;\n",
       "    }\n",
       "\n",
       "    .dataframe thead th {\n",
       "        text-align: right;\n",
       "    }\n",
       "</style>\n",
       "<table border=\"1\" class=\"dataframe\">\n",
       "  <thead>\n",
       "    <tr style=\"text-align: right;\">\n",
       "      <th></th>\n",
       "      <th>avg_preco_venda</th>\n",
       "      <th>avg_preco_compra</th>\n",
       "      <th>volatility_preco_de_venda</th>\n",
       "      <th>volatility_preco_de_compra</th>\n",
       "      <th>avg_n_estabelecimentos</th>\n",
       "      <th>avg_ID_municipio</th>\n",
       "      <th>avg_sigla_uf</th>\n",
       "      <th>avg_bandeira_revenda_cat</th>\n",
       "    </tr>\n",
       "    <tr>\n",
       "      <th>data</th>\n",
       "      <th></th>\n",
       "      <th></th>\n",
       "      <th></th>\n",
       "      <th></th>\n",
       "      <th></th>\n",
       "      <th></th>\n",
       "      <th></th>\n",
       "      <th></th>\n",
       "    </tr>\n",
       "  </thead>\n",
       "  <tbody>\n",
       "    <tr>\n",
       "      <th>2018-07-01</th>\n",
       "      <td>3.390795</td>\n",
       "      <td>3.036318</td>\n",
       "      <td>0.178994</td>\n",
       "      <td>0.140609</td>\n",
       "      <td>0.481042</td>\n",
       "      <td>365.699877</td>\n",
       "      <td>16.784748</td>\n",
       "      <td>1.685117</td>\n",
       "    </tr>\n",
       "    <tr>\n",
       "      <th>2019-01-01</th>\n",
       "      <td>3.446721</td>\n",
       "      <td>3.018801</td>\n",
       "      <td>0.211260</td>\n",
       "      <td>0.168275</td>\n",
       "      <td>0.546433</td>\n",
       "      <td>366.888517</td>\n",
       "      <td>16.701226</td>\n",
       "      <td>1.652174</td>\n",
       "    </tr>\n",
       "    <tr>\n",
       "      <th>2019-02-01</th>\n",
       "      <td>3.454991</td>\n",
       "      <td>3.068011</td>\n",
       "      <td>0.210687</td>\n",
       "      <td>0.159606</td>\n",
       "      <td>0.450675</td>\n",
       "      <td>361.037037</td>\n",
       "      <td>16.359788</td>\n",
       "      <td>1.719577</td>\n",
       "    </tr>\n",
       "    <tr>\n",
       "      <th>2019-07-01</th>\n",
       "      <td>3.553007</td>\n",
       "      <td>3.113476</td>\n",
       "      <td>0.191737</td>\n",
       "      <td>0.147598</td>\n",
       "      <td>0.513756</td>\n",
       "      <td>364.778652</td>\n",
       "      <td>16.652809</td>\n",
       "      <td>1.688764</td>\n",
       "    </tr>\n",
       "    <tr>\n",
       "      <th>2019-08-01</th>\n",
       "      <td>3.534181</td>\n",
       "      <td>3.108800</td>\n",
       "      <td>0.188642</td>\n",
       "      <td>0.142653</td>\n",
       "      <td>0.511263</td>\n",
       "      <td>365.056243</td>\n",
       "      <td>16.509561</td>\n",
       "      <td>1.664792</td>\n",
       "    </tr>\n",
       "  </tbody>\n",
       "</table>\n",
       "</div>"
      ],
      "text/plain": [
       "            avg_preco_venda  avg_preco_compra  volatility_preco_de_venda  \\\n",
       "data                                                                       \n",
       "2018-07-01         3.390795          3.036318                   0.178994   \n",
       "2019-01-01         3.446721          3.018801                   0.211260   \n",
       "2019-02-01         3.454991          3.068011                   0.210687   \n",
       "2019-07-01         3.553007          3.113476                   0.191737   \n",
       "2019-08-01         3.534181          3.108800                   0.188642   \n",
       "\n",
       "            volatility_preco_de_compra  avg_n_estabelecimentos  \\\n",
       "data                                                             \n",
       "2018-07-01                    0.140609                0.481042   \n",
       "2019-01-01                    0.168275                0.546433   \n",
       "2019-02-01                    0.159606                0.450675   \n",
       "2019-07-01                    0.147598                0.513756   \n",
       "2019-08-01                    0.142653                0.511263   \n",
       "\n",
       "            avg_ID_municipio  avg_sigla_uf  avg_bandeira_revenda_cat  \n",
       "data                                                                  \n",
       "2018-07-01        365.699877     16.784748                  1.685117  \n",
       "2019-01-01        366.888517     16.701226                  1.652174  \n",
       "2019-02-01        361.037037     16.359788                  1.719577  \n",
       "2019-07-01        364.778652     16.652809                  1.688764  \n",
       "2019-08-01        365.056243     16.509561                  1.664792  "
      ]
     },
     "execution_count": 25,
     "metadata": {},
     "output_type": "execute_result"
    }
   ],
   "source": [
    "train_0.tail()"
   ]
  },
  {
   "cell_type": "code",
   "execution_count": 26,
   "id": "af0753af-0b2a-457f-85a2-17061eef2c65",
   "metadata": {},
   "outputs": [
    {
     "data": {
      "text/html": [
       "<div>\n",
       "<style scoped>\n",
       "    .dataframe tbody tr th:only-of-type {\n",
       "        vertical-align: middle;\n",
       "    }\n",
       "\n",
       "    .dataframe tbody tr th {\n",
       "        vertical-align: top;\n",
       "    }\n",
       "\n",
       "    .dataframe thead th {\n",
       "        text-align: right;\n",
       "    }\n",
       "</style>\n",
       "<table border=\"1\" class=\"dataframe\">\n",
       "  <thead>\n",
       "    <tr style=\"text-align: right;\">\n",
       "      <th></th>\n",
       "      <th>avg_preco_venda</th>\n",
       "      <th>avg_preco_compra</th>\n",
       "      <th>volatility_preco_de_venda</th>\n",
       "      <th>volatility_preco_de_compra</th>\n",
       "      <th>avg_n_estabelecimentos</th>\n",
       "      <th>avg_ID_municipio</th>\n",
       "      <th>avg_sigla_uf</th>\n",
       "      <th>avg_bandeira_revenda_cat</th>\n",
       "    </tr>\n",
       "    <tr>\n",
       "      <th>data</th>\n",
       "      <th></th>\n",
       "      <th></th>\n",
       "      <th></th>\n",
       "      <th></th>\n",
       "      <th></th>\n",
       "      <th></th>\n",
       "      <th></th>\n",
       "      <th></th>\n",
       "    </tr>\n",
       "  </thead>\n",
       "  <tbody>\n",
       "    <tr>\n",
       "      <th>2019-09-01</th>\n",
       "      <td>3.604703</td>\n",
       "      <td>3.202132</td>\n",
       "      <td>0.190021</td>\n",
       "      <td>0.149923</td>\n",
       "      <td>0.517363</td>\n",
       "      <td>360.391608</td>\n",
       "      <td>16.454545</td>\n",
       "      <td>1.674825</td>\n",
       "    </tr>\n",
       "    <tr>\n",
       "      <th>2019-10-01</th>\n",
       "      <td>3.713234</td>\n",
       "      <td>3.338504</td>\n",
       "      <td>0.183738</td>\n",
       "      <td>0.139612</td>\n",
       "      <td>0.524091</td>\n",
       "      <td>361.219753</td>\n",
       "      <td>16.533333</td>\n",
       "      <td>1.679012</td>\n",
       "    </tr>\n",
       "    <tr>\n",
       "      <th>2019-11-01</th>\n",
       "      <td>3.723872</td>\n",
       "      <td>3.329198</td>\n",
       "      <td>0.186457</td>\n",
       "      <td>0.139584</td>\n",
       "      <td>0.512555</td>\n",
       "      <td>362.379001</td>\n",
       "      <td>16.704225</td>\n",
       "      <td>1.700384</td>\n",
       "    </tr>\n",
       "    <tr>\n",
       "      <th>2019-12-01</th>\n",
       "      <td>3.745267</td>\n",
       "      <td>3.360172</td>\n",
       "      <td>0.182604</td>\n",
       "      <td>0.143450</td>\n",
       "      <td>0.515552</td>\n",
       "      <td>357.806701</td>\n",
       "      <td>16.541237</td>\n",
       "      <td>1.695876</td>\n",
       "    </tr>\n",
       "    <tr>\n",
       "      <th>2020-01-01</th>\n",
       "      <td>3.800591</td>\n",
       "      <td>3.408489</td>\n",
       "      <td>0.179474</td>\n",
       "      <td>0.142334</td>\n",
       "      <td>0.538212</td>\n",
       "      <td>357.472938</td>\n",
       "      <td>16.353093</td>\n",
       "      <td>1.719072</td>\n",
       "    </tr>\n",
       "  </tbody>\n",
       "</table>\n",
       "</div>"
      ],
      "text/plain": [
       "            avg_preco_venda  avg_preco_compra  volatility_preco_de_venda  \\\n",
       "data                                                                       \n",
       "2019-09-01         3.604703          3.202132                   0.190021   \n",
       "2019-10-01         3.713234          3.338504                   0.183738   \n",
       "2019-11-01         3.723872          3.329198                   0.186457   \n",
       "2019-12-01         3.745267          3.360172                   0.182604   \n",
       "2020-01-01         3.800591          3.408489                   0.179474   \n",
       "\n",
       "            volatility_preco_de_compra  avg_n_estabelecimentos  \\\n",
       "data                                                             \n",
       "2019-09-01                    0.149923                0.517363   \n",
       "2019-10-01                    0.139612                0.524091   \n",
       "2019-11-01                    0.139584                0.512555   \n",
       "2019-12-01                    0.143450                0.515552   \n",
       "2020-01-01                    0.142334                0.538212   \n",
       "\n",
       "            avg_ID_municipio  avg_sigla_uf  avg_bandeira_revenda_cat  \n",
       "data                                                                  \n",
       "2019-09-01        360.391608     16.454545                  1.674825  \n",
       "2019-10-01        361.219753     16.533333                  1.679012  \n",
       "2019-11-01        362.379001     16.704225                  1.700384  \n",
       "2019-12-01        357.806701     16.541237                  1.695876  \n",
       "2020-01-01        357.472938     16.353093                  1.719072  "
      ]
     },
     "execution_count": 26,
     "metadata": {},
     "output_type": "execute_result"
    }
   ],
   "source": [
    "test_0.head()"
   ]
  },
  {
   "cell_type": "code",
   "execution_count": 27,
   "id": "16673475-7a7a-417a-8136-1fb2fe6bb755",
   "metadata": {},
   "outputs": [
    {
     "data": {
      "text/plain": [
       "((81, 8), (12, 8))"
      ]
     },
     "execution_count": 27,
     "metadata": {},
     "output_type": "execute_result"
    }
   ],
   "source": [
    "train_0.shape, test_0.shape"
   ]
  },
  {
   "cell_type": "code",
   "execution_count": 28,
   "id": "f5c4b003-3973-4326-9847-7a741f505af0",
   "metadata": {},
   "outputs": [
    {
     "data": {
      "text/plain": [
       "<matplotlib.legend.Legend at 0x3214202d0>"
      ]
     },
     "execution_count": 28,
     "metadata": {},
     "output_type": "execute_result"
    },
    {
     "data": {
      "image/png": "[encoded data removed]",
      "text/plain": [
       "<Figure size 640x480 with 1 Axes>"
      ]
     },
     "metadata": {},
     "output_type": "display_data"
    }
   ],
   "source": [
    "plt.figure(dpi = 100)\n",
    "plt.plot(train_0['avg_preco_venda'], color = \"black\", label = 'Train')\n",
    "plt.plot(test_0['avg_preco_venda'], color = \"red\", label = 'Test')\n",
    "plt.ylabel('BTC Price')\n",
    "plt.xlabel('Date')\n",
    "plt.xticks(rotation = 45)\n",
    "plt.title(\"Train/Test split\")\n",
    "plt.legend()"
   ]
  },
  {
   "cell_type": "code",
   "execution_count": 29,
   "id": "e0a47c79-4e5a-44f3-a523-ec6b41502f19",
   "metadata": {},
   "outputs": [
    {
     "data": {
      "text/plain": [
       "((81,), (81, 7))"
      ]
     },
     "execution_count": 29,
     "metadata": {},
     "output_type": "execute_result"
    }
   ],
   "source": [
    "y_train = train_0['avg_preco_venda']\n",
    "exog_train = np.array([ train_0['avg_preco_compra'], train_0['volatility_preco_de_venda'], train_0['volatility_preco_de_compra'],\n",
    "                        train_0['avg_n_estabelecimentos'], train_0['avg_ID_municipio'], train_0['avg_sigla_uf'], train_0['avg_bandeira_revenda_cat']\n",
    "                      ]).T\n",
    "\n",
    "y_train.shape, exog_train.shape"
   ]
  },
  {
   "cell_type": "code",
   "execution_count": 30,
   "id": "4e0810ff-a65f-4b6f-ba9f-4de78a9c9345",
   "metadata": {},
   "outputs": [
    {
     "data": {
      "text/plain": [
       "((12,), (12, 7))"
      ]
     },
     "execution_count": 30,
     "metadata": {},
     "output_type": "execute_result"
    }
   ],
   "source": [
    "y_test = test_0['avg_preco_venda']\n",
    "exog_test = np.array([ test_0['avg_preco_compra'], test_0['volatility_preco_de_venda'], test_0['volatility_preco_de_compra'],\n",
    "                        test_0['avg_n_estabelecimentos'], test_0['avg_ID_municipio'], test_0['avg_sigla_uf'], test_0['avg_bandeira_revenda_cat']\n",
    "                      ]).T\n",
    "y_test.shape, exog_test.shape"
   ]
  },
  {
   "cell_type": "code",
   "execution_count": 31,
   "id": "ceb616d8-c00d-4097-92c9-1486b274c1dd",
   "metadata": {},
   "outputs": [
    {
     "name": "stderr",
     "output_type": "stream",
     "text": [
      "/Users/natalidesanti/env_pytorch/lib/python3.11/site-packages/statsmodels/tsa/base/tsa_model.py:473: ValueWarning: A date index has been provided, but it has no associated frequency information and so will be ignored when e.g. forecasting.\n",
      "  self._init_dates(dates, freq)\n",
      "/Users/natalidesanti/env_pytorch/lib/python3.11/site-packages/statsmodels/tsa/base/tsa_model.py:473: ValueWarning: A date index has been provided, but it has no associated frequency information and so will be ignored when e.g. forecasting.\n",
      "  self._init_dates(dates, freq)\n",
      "/Users/natalidesanti/env_pytorch/lib/python3.11/site-packages/statsmodels/tsa/base/tsa_model.py:473: ValueWarning: A date index has been provided, but it has no associated frequency information and so will be ignored when e.g. forecasting.\n",
      "  self._init_dates(dates, freq)\n"
     ]
    }
   ],
   "source": [
    "ARIMAmodel = ARIMA(y_train, exog_train, order = (4, 2, 1))"
   ]
  },
  {
   "cell_type": "code",
   "execution_count": 32,
   "id": "6b3efc7a-142f-4b38-a8bb-608a3a29728a",
   "metadata": {},
   "outputs": [],
   "source": [
    "ARIMAmodel = ARIMAmodel.fit()"
   ]
  },
  {
   "cell_type": "code",
   "execution_count": 33,
   "id": "552303b3-ecb2-45d0-ba0c-8af49c6e3393",
   "metadata": {},
   "outputs": [
    {
     "name": "stderr",
     "output_type": "stream",
     "text": [
      "/Users/natalidesanti/env_pytorch/lib/python3.11/site-packages/statsmodels/tsa/base/tsa_model.py:837: ValueWarning: No supported index is available. Prediction results will be given with an integer index beginning at `start`.\n",
      "  return get_prediction_index(\n",
      "/Users/natalidesanti/env_pytorch/lib/python3.11/site-packages/statsmodels/tsa/base/tsa_model.py:837: FutureWarning: No supported index is available. In the next version, calling this method in a model without a supported index will result in an exception.\n",
      "  return get_prediction_index(\n"
     ]
    }
   ],
   "source": [
    "y_pred_df_ARIMA = ARIMAmodel.predict(start = 81, end = 92, exog = exog_test)"
   ]
  },
  {
   "cell_type": "code",
   "execution_count": 34,
   "id": "dd2e2893-2377-4db6-8e0f-2653a1dcab64",
   "metadata": {},
   "outputs": [
    {
     "data": {
      "text/plain": [
       "<matplotlib.legend.Legend at 0x32144dd10>"
      ]
     },
     "execution_count": 34,
     "metadata": {},
     "output_type": "execute_result"
    },
    {
     "data": {
      "image/png": "[encoded data removed]",
      "text/plain": [
       "<Figure size 640x480 with 1 Axes>"
      ]
     },
     "metadata": {},
     "output_type": "display_data"
    }
   ],
   "source": [
    "plt.figure(dpi = 100)\n",
    "plt.plot(train_0[\"avg_preco_venda\"], color = \"black\", label = 'Train')\n",
    "plt.plot(test_0[\"avg_preco_venda\"], color = \"red\", label = 'Test')\n",
    "plt.plot(test_0.index, y_pred_df_ARIMA.values, color='Blue', ls = ':', label = 'ARIMA')\n",
    "plt.ylabel('BTC Price')\n",
    "plt.xlabel('Date')\n",
    "plt.xticks(rotation = 45)\n",
    "plt.title(\"Train/Test split for BTC Data\")\n",
    "plt.legend()"
   ]
  },
  {
   "cell_type": "markdown",
   "id": "6b92b76c-6d55-47f0-a257-30dc2b4b059f",
   "metadata": {},
   "source": [
    "Now, without exogenous variables:"
   ]
  },
  {
   "cell_type": "code",
   "execution_count": 35,
   "id": "cefe4d1d-3346-44da-87b6-37361f73a52d",
   "metadata": {},
   "outputs": [
    {
     "name": "stdout",
     "output_type": "stream",
     "text": [
      "Performing stepwise search to minimize aic\n",
      " ARIMA(0,1,0)(0,0,0)[0] intercept   : AIC=-234.155, Time=0.02 sec\n",
      " ARIMA(1,1,0)(0,0,0)[0] intercept   : AIC=-232.952, Time=0.02 sec\n",
      " ARIMA(0,1,1)(0,0,0)[0] intercept   : AIC=-232.796, Time=0.03 sec\n",
      " ARIMA(0,1,0)(0,0,0)[0]             : AIC=-218.930, Time=0.01 sec\n",
      " ARIMA(1,1,1)(0,0,0)[0] intercept   : AIC=-231.888, Time=0.02 sec\n",
      "\n",
      "Best model:  ARIMA(0,1,0)(0,0,0)[0] intercept\n",
      "Total fit time: 0.108 seconds\n"
     ]
    }
   ],
   "source": [
    "#model = auto_arima(y_train, start_p=0, start_q=0, max_p=4, max_q=4, d=None, seasonal=False, trace=True)"
   ]
  },
  {
   "cell_type": "code",
   "execution_count": 36,
   "id": "0bd8a90e-fb8c-4794-829f-6cac938b26a8",
   "metadata": {},
   "outputs": [
    {
     "name": "stdout",
     "output_type": "stream",
     "text": [
      "Performing stepwise search to minimize aic\n",
      " ARIMA(2,1,2)(1,0,1)[12] intercept   : AIC=-226.786, Time=0.53 sec\n",
      " ARIMA(0,1,0)(0,0,0)[12] intercept   : AIC=-234.155, Time=0.02 sec\n",
      " ARIMA(1,1,0)(1,0,0)[12] intercept   : AIC=-230.954, Time=0.05 sec\n",
      " ARIMA(0,1,1)(0,0,1)[12] intercept   : AIC=-230.796, Time=0.08 sec\n",
      " ARIMA(0,1,0)(0,0,0)[12]             : AIC=-218.930, Time=0.00 sec\n",
      " ARIMA(0,1,0)(1,0,0)[12] intercept   : AIC=-232.177, Time=0.04 sec\n",
      " ARIMA(0,1,0)(0,0,1)[12] intercept   : AIC=-232.177, Time=0.05 sec\n",
      " ARIMA(0,1,0)(1,0,1)[12] intercept   : AIC=-230.274, Time=0.06 sec\n",
      " ARIMA(1,1,0)(0,0,0)[12] intercept   : AIC=-232.952, Time=0.01 sec\n",
      " ARIMA(0,1,1)(0,0,0)[12] intercept   : AIC=-232.796, Time=0.04 sec\n",
      " ARIMA(1,1,1)(0,0,0)[12] intercept   : AIC=-231.888, Time=0.03 sec\n",
      "\n",
      "Best model:  ARIMA(0,1,0)(0,0,0)[12] intercept\n",
      "Total fit time: 0.936 seconds\n"
     ]
    }
   ],
   "source": [
    "#model = auto_arima(y_train, seasonal=True, m = 12, trace=True)"
   ]
  },
  {
   "cell_type": "code",
   "execution_count": 36,
   "id": "de9ad069-ff16-4153-a925-be9f8cb33d61",
   "metadata": {},
   "outputs": [
    {
     "name": "stderr",
     "output_type": "stream",
     "text": [
      "/Users/natalidesanti/env_pytorch/lib/python3.11/site-packages/statsmodels/tsa/base/tsa_model.py:473: ValueWarning: A date index has been provided, but it has no associated frequency information and so will be ignored when e.g. forecasting.\n",
      "  self._init_dates(dates, freq)\n",
      "/Users/natalidesanti/env_pytorch/lib/python3.11/site-packages/statsmodels/tsa/base/tsa_model.py:473: ValueWarning: A date index has been provided, but it has no associated frequency information and so will be ignored when e.g. forecasting.\n",
      "  self._init_dates(dates, freq)\n",
      "/Users/natalidesanti/env_pytorch/lib/python3.11/site-packages/statsmodels/tsa/base/tsa_model.py:473: ValueWarning: A date index has been provided, but it has no associated frequency information and so will be ignored when e.g. forecasting.\n",
      "  self._init_dates(dates, freq)\n"
     ]
    }
   ],
   "source": [
    "ARIMAmodel = ARIMA(y_train, order = (0, 1, 0))#(6, 3, 2))\n",
    "ARIMAmodel = ARIMAmodel.fit()"
   ]
  },
  {
   "cell_type": "code",
   "execution_count": 37,
   "id": "9c1472d7-6800-4c4d-8c7e-410abd689287",
   "metadata": {},
   "outputs": [
    {
     "name": "stderr",
     "output_type": "stream",
     "text": [
      "/Users/natalidesanti/env_pytorch/lib/python3.11/site-packages/statsmodels/tsa/base/tsa_model.py:837: ValueWarning: No supported index is available. Prediction results will be given with an integer index beginning at `start`.\n",
      "  return get_prediction_index(\n",
      "/Users/natalidesanti/env_pytorch/lib/python3.11/site-packages/statsmodels/tsa/base/tsa_model.py:837: FutureWarning: No supported index is available. In the next version, calling this method in a model without a supported index will result in an exception.\n",
      "  return get_prediction_index(\n"
     ]
    }
   ],
   "source": [
    "y_pred_df_ARIMA = ARIMAmodel.predict(start = 81, end = 92)"
   ]
  },
  {
   "cell_type": "code",
   "execution_count": 38,
   "id": "630e7b6b-7f15-4c87-bc95-8b934552b6c9",
   "metadata": {},
   "outputs": [
    {
     "data": {
      "text/plain": [
       "<matplotlib.legend.Legend at 0x33a273b10>"
      ]
     },
     "execution_count": 38,
     "metadata": {},
     "output_type": "execute_result"
    },
    {
     "data": {
      "image/png": "[encoded data removed]",
      "text/plain": [
       "<Figure size 640x480 with 1 Axes>"
      ]
     },
     "metadata": {},
     "output_type": "display_data"
    }
   ],
   "source": [
    "plt.figure(dpi = 100)\n",
    "plt.plot(train_0[\"avg_preco_venda\"], color = \"black\", label = 'Train')\n",
    "plt.plot(test_0[\"avg_preco_venda\"], color = \"red\", label = 'Test')\n",
    "plt.plot(test_0.index, y_pred_df_ARIMA.values, color='Blue', label = 'ARIMA')\n",
    "plt.ylabel('BTC Price')\n",
    "plt.xlabel('Date')\n",
    "plt.xticks(rotation=45)\n",
    "plt.title(\"Train/Test split for BTC Data\")\n",
    "plt.legend()"
   ]
  },
  {
   "cell_type": "markdown",
   "id": "ed7a6f25-4a2e-49eb-a80b-47eda362bab4",
   "metadata": {},
   "source": [
    "Doing predictions to the months asked:"
   ]
  },
  {
   "cell_type": "code",
   "execution_count": 39,
   "id": "0064d8ae-f6fc-4bf7-a11a-658fae5bcd18",
   "metadata": {},
   "outputs": [
    {
     "data": {
      "text/plain": [
       "60"
      ]
     },
     "execution_count": 39,
     "metadata": {},
     "output_type": "execute_result"
    }
   ],
   "source": [
    "date_range = pd.date_range('2019-09-01', '2024-08-01', freq = 'MS')\n",
    "date_list = date_range.strftime('%Y-%m-%d').tolist()\n",
    "len(date_list)"
   ]
  },
  {
   "cell_type": "code",
   "execution_count": 40,
   "id": "56a7bdcb-51b1-476f-92cb-0bbcd507bdd3",
   "metadata": {},
   "outputs": [
    {
     "name": "stderr",
     "output_type": "stream",
     "text": [
      "/Users/natalidesanti/env_pytorch/lib/python3.11/site-packages/statsmodels/tsa/base/tsa_model.py:837: ValueWarning: No supported index is available. Prediction results will be given with an integer index beginning at `start`.\n",
      "  return get_prediction_index(\n",
      "/Users/natalidesanti/env_pytorch/lib/python3.11/site-packages/statsmodels/tsa/base/tsa_model.py:837: FutureWarning: No supported index is available. In the next version, calling this method in a model without a supported index will result in an exception.\n",
      "  return get_prediction_index(\n"
     ]
    }
   ],
   "source": [
    "y_pred_df_ARIMA = ARIMAmodel.predict(start = 81, end = 92+48)"
   ]
  },
  {
   "cell_type": "code",
   "execution_count": 41,
   "id": "be7875cb-d1a3-43d3-9341-ae025db6c569",
   "metadata": {},
   "outputs": [
    {
     "data": {
      "text/plain": [
       "(60, 1)"
      ]
     },
     "execution_count": 41,
     "metadata": {},
     "output_type": "execute_result"
    }
   ],
   "source": [
    "preds = pd.DataFrame(data = y_pred_df_ARIMA.values)#, index = date_range)\n",
    "preds.index = date_range\n",
    "preds.shape"
   ]
  },
  {
   "cell_type": "code",
   "execution_count": 42,
   "id": "778bfce7-09a2-4ffb-af14-df1644f22c6c",
   "metadata": {},
   "outputs": [
    {
     "data": {
      "text/plain": [
       "<matplotlib.legend.Legend at 0x338eac990>"
      ]
     },
     "execution_count": 42,
     "metadata": {},
     "output_type": "execute_result"
    },
    {
     "data": {
      "image/png": "[encoded data removed]",
      "text/plain": [
       "<Figure size 640x480 with 1 Axes>"
      ]
     },
     "metadata": {},
     "output_type": "display_data"
    }
   ],
   "source": [
    "plt.figure(dpi = 100)\n",
    "plt.plot(train_0[\"avg_preco_venda\"], color = \"black\", label = 'Train')\n",
    "plt.plot(test_0[\"avg_preco_venda\"], color = \"red\", label = 'Test')\n",
    "plt.plot(preds, color='Blue', label = 'ARIMA')\n",
    "plt.ylabel('BTC Price')\n",
    "plt.xlabel('Date')\n",
    "plt.xticks(rotation=45)\n",
    "plt.title(\"Train/Test split for BTC Data\")\n",
    "plt.legend()"
   ]
  },
  {
   "cell_type": "code",
   "execution_count": null,
   "id": "45659360-66fd-47dd-8117-85e899e79452",
   "metadata": {},
   "outputs": [],
   "source": []
  },
  {
   "cell_type": "code",
   "execution_count": null,
   "id": "19f71147-98de-43ff-a351-502912314efd",
   "metadata": {},
   "outputs": [],
   "source": []
  }
 ],
 "metadata": {
  "kernelspec": {
   "display_name": "env_pytorch",
   "language": "python",
   "name": "env_pytorch"
  },
  "language_info": {
   "codemirror_mode": {
    "name": "ipython",
    "version": 3
   },
   "file_extension": ".py",
   "mimetype": "text/x-python",
   "name": "python",
   "nbconvert_exporter": "python",
   "pygments_lexer": "ipython3",
   "version": "3.11.4"
  }
 },
 "nbformat": 4,
 "nbformat_minor": 5
}
